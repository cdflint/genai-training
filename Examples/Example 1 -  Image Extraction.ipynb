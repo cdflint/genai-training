{
 "cells": [
  {
   "cell_type": "code",
   "execution_count": null,
   "metadata": {},
   "outputs": [],
   "source": [
    "import toml\n",
    "import sys\n",
    "import os\n",
    "import pandas as pd\n",
    "\n",
    " # Get the parent directory\n",
    "parent_dir = os.path.abspath(os.path.join(os.getcwd(), '..'))\n",
    "\n",
    "# Add the parent directory to the Python path\n",
    "sys.path.append(parent_dir)\n",
    "# from mimetypes import guess_type\n",
    "from langchain_openai import AzureChatOpenAI\n",
    "# from langchain_core.prompts import ChatPromptTemplate, MessagesPlaceholder\n",
    " \n",
    "from chains.image_extractor import ImageExtractChain\n",
    "# from chains.doc_summarize import DocumentSummarize\n"
   ]
  },
  {
   "cell_type": "code",
   "execution_count": null,
   "metadata": {},
   "outputs": [],
   "source": [
    "azure_config = toml.load(r\"\")[\"configs\"][0]\n",
    "llm = AzureChatOpenAI(\n",
    "    openai_api_version=azure_config[\"api_version\"],\n",
    "    azure_deployment=azure_config[\"deployment_name\"],\n",
    "    api_key=azure_config[\"api_key\"],\n",
    "    azure_endpoint=azure_config[\"api_base\"],\n",
    "    model=azure_config[\"model_name\"],\n",
    "    model_name=azure_config[\"model_name\"],\n",
    "    temperature=0,\n",
    ")\n",
    "response = llm.invoke(\"hi\")"
   ]
  },
  {
   "cell_type": "code",
   "execution_count": null,
   "metadata": {},
   "outputs": [],
   "source": [
    "# Directory containing image files\n",
    "image_directory = \"images\"\n",
    "\n",
    "# List all image files in the directory\n",
    "image_paths = [os.path.join(image_directory, f) for f in os.listdir(image_directory) if f.endswith(('.png', '.jpg', '.jpeg'))]\n",
    "\n",
    "# Create an instance of ImageExtractChain for each image and extract information\n",
    "results = {}\n",
    "for image_path in image_paths:\n",
    "    # Extract country name from the image file name\n",
    "    country_name, global_id = os.path.basename(image_path).split('_')[:2]\n",
    "    countryname_globalid = f\"{country_name}_{global_id}\"\n",
    "\n",
    "    # Create an instance of ImageExtractChain\n",
    "    iec = ImageExtractChain(model=llm, image_path=image_path)\n",
    "    \n",
    "    # Extract information from the image\n",
    "    result = iec.extract_from_image()\n",
    "    \n",
    "    # Store the result in the dictionary\n",
    "    results[countryname_globalid] = result\n"
   ]
  },
  {
   "cell_type": "code",
   "execution_count": null,
   "metadata": {},
   "outputs": [],
   "source": [
    "\n",
    "# Convert the results dictionary to a DataFrame\n",
    "df = pd.DataFrame.from_dict(results, orient='index')\n",
    "\n",
    "# Display the DataFrame\n",
    "df"
   ]
  },
  {
   "cell_type": "code",
   "execution_count": null,
   "metadata": {},
   "outputs": [],
   "source": [
    "average_measurements = df['point_measurements_description']\n",
    "for avg in average_measurements:\n",
    "    print(avg)\n",
    "    print()"
   ]
  }
 ],
 "metadata": {
  "kernelspec": {
   "display_name": "Python 3",
   "language": "python",
   "name": "python3"
  },
  "language_info": {
   "codemirror_mode": {
    "name": "ipython",
    "version": 3
   },
   "file_extension": ".py",
   "mimetype": "text/x-python",
   "name": "python",
   "nbconvert_exporter": "python",
   "pygments_lexer": "ipython3",
   "version": "3.11.8"
  }
 },
 "nbformat": 4,
 "nbformat_minor": 2
}
