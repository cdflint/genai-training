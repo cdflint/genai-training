{
 "cells": [
  {
   "cell_type": "markdown",
   "metadata": {},
   "source": [
    "### Example 2 - AI Attachment Reviewer\n",
    "\n",
    "This example will walk you through the following steps:\n",
    "\n",
    "1. Downloading attachments from a Feature Service\n",
    "2. Use a LLM to analyze attachments (images & PDFs) and provide a text summary for each\n",
    "3. Write that summary back to the feature for review in an ArcGIS Manager Instant Application\n"
   ]
  },
  {
   "cell_type": "markdown",
   "metadata": {},
   "source": [
    "#### Import the needed python libraries\n"
   ]
  },
  {
   "cell_type": "code",
   "execution_count": 1,
   "metadata": {},
   "outputs": [],
   "source": [
    "import toml\n",
    "import sys\n",
    "import os\n",
    "import shutil\n",
    "import pandas as pd\n",
    "from arcgis.gis import GIS\n",
    "from langchain_openai import AzureChatOpenAI\n",
    "from getpass import getpass\n",
    "\n",
    "parent_dir = os.path.abspath(os.path.join(os.getcwd(), \"..\"))\n",
    "\n",
    "# Add the parent directory to the Python path\n",
    "sys.path.append(parent_dir)\n",
    "\n",
    "from chains.image_extractor import ImageExtractChain\n",
    "from chains.pdf_extractor import PDFExtractChain\n",
    "\n",
    "from models.image_information import ImageInformation\n",
    "from models.pdf_information import PDFInformation"
   ]
  },
  {
   "cell_type": "markdown",
   "metadata": {},
   "source": [
    "#### Connect to ArcGIS Online\n",
    "\n",
    "OPTION 1: Connect to a named-user account\n",
    "\n",
    "- Simply log in with your username and password\n",
    "\n",
    "OPTION 2: Connect to an account using Single Sign On (SSO)\n",
    "\n",
    "- Follow these instructions to create OAuth credentials in your ArcGIS Online account, https://developers.arcgis.com/documentation/security-and-authentication/app-authentication/tutorials/create-oauth-credentials-app-auth/.\n",
    "- After creating, copy the Client Id and use it below in the `client_id` variable.\n"
   ]
  },
  {
   "cell_type": "code",
   "execution_count": null,
   "metadata": {},
   "outputs": [],
   "source": [
    "## OPTION 1 -- Comment out if you are using an account with SSO and follow OPTION 2\n",
    "username = input(prompt=\"Enter your Esri username: \")\n",
    "password = getpass(prompt=\"Enter your Esri password: \")\n",
    "gis = GIS(\"https://www.arcgis.com\", username, password)\n",
    "\n",
    "## OPTION 2 -- Uncomment the following lines if you are using an account with SSO\n",
    "## this is url to your Organization\n",
    "# org_url = \"https://esrifederal.maps.arcgis.com\"\n",
    "\n",
    "# ## client_id is the application id of the app registered through the org\n",
    "# client_id = \"VEFjlNUX3GINnELq\"\n",
    "# gis = GIS(org_url, client_id=client_id)\n",
    "\n",
    "gis"
   ]
  },
  {
   "cell_type": "markdown",
   "metadata": {},
   "source": [
    "#### Clone existing feature service with attachments into your own ArcGIS Online account.\n"
   ]
  },
  {
   "cell_type": "code",
   "execution_count": null,
   "metadata": {},
   "outputs": [],
   "source": [
    "# clone over a feature service to your own content\n",
    "attachment_fs_item = gis.content.get(\"ac062cbb932b478f96075b4ae326447c\")\n",
    "\n",
    "print(f\"Cloning item: {attachment_fs_item.title}\")\n",
    "cloned_items = gis.content.clone_items(\n",
    "    items=[attachment_fs_item], copy_data=True, search_existing_items=False\n",
    ")\n",
    "\n",
    "cloned_item_id = None\n",
    "if len(cloned_items) > 0:\n",
    "    cloned_item = cloned_items[0]\n",
    "    cloned_item_id = cloned_item.id\n",
    "    # build the url to the cloned feature service\n",
    "    cloned_item_url = f\"{gis.url}/home/item.html?id={cloned_item_id}\"\n",
    "    print(f\"Successfully cloned item. Please review @ {cloned_item_url}.\")\n",
    "\n",
    "else:\n",
    "    print(\"Failed to clone item\")"
   ]
  },
  {
   "cell_type": "markdown",
   "metadata": {},
   "source": [
    "#### Prepare the attachments download folder\n"
   ]
  },
  {
   "cell_type": "code",
   "execution_count": 5,
   "metadata": {},
   "outputs": [],
   "source": [
    "# Get the item\n",
    "item = gis.content.get(cloned_item_id)\n",
    "\n",
    "feature_layer = item.layers[0]\n",
    "\n",
    "# Create a directory to save attachments\n",
    "output_dir = \"attachments\"\n",
    "if not os.path.exists(output_dir):\n",
    "    os.makedirs(output_dir)"
   ]
  },
  {
   "cell_type": "markdown",
   "metadata": {},
   "source": [
    "#### Download Feature Service Attachments\n",
    "\n",
    "This helpful section of code was pulled from Rami's excellent sample here: https://github.com/ralouta/ArcGIS_Code_Repo/blob/main/src/scripts/Feature%20Service%20Management/download_attachments_fs.ipynb.\n"
   ]
  },
  {
   "cell_type": "code",
   "execution_count": null,
   "metadata": {},
   "outputs": [],
   "source": [
    "# Function to download attachments\n",
    "def download_attachments(feature_layer, output_dir):\n",
    "    # Query all features\n",
    "    features = feature_layer.query(where=\"1=1\", out_fields=\"*\").features\n",
    "\n",
    "    for feature in features:\n",
    "        object_id = feature.attributes[feature_layer.properties.objectIdField]\n",
    "        globalid = feature.attributes[feature_layer.properties.globalIdField]\n",
    "        attachments = feature_layer.attachments.get_list(object_id)\n",
    "\n",
    "        for attachment in attachments:\n",
    "            attachment_id = attachment[\"id\"]\n",
    "            attachment_name = attachment[\"name\"]\n",
    "            final_attachment_path = os.path.join(\n",
    "                output_dir, f\"{globalid}__{attachment_name}\"\n",
    "            )\n",
    "\n",
    "            # Check if the attachment already exists\n",
    "            if not os.path.exists(final_attachment_path):\n",
    "                temp_dir = os.path.join(output_dir, f\"temp_{object_id}\")\n",
    "\n",
    "                # Create a temporary directory to download the attachment\n",
    "                if not os.path.exists(temp_dir):\n",
    "                    os.makedirs(temp_dir)\n",
    "\n",
    "                # Download the attachment to the temporary directory\n",
    "                feature_layer.attachments.download(\n",
    "                    oid=object_id, attachment_id=attachment_id, save_path=temp_dir\n",
    "                )\n",
    "\n",
    "                # Move the attachment from the temporary directory to the output directory with the new name\n",
    "                temp_attachment_path = os.path.join(temp_dir, attachment_name)\n",
    "                shutil.move(temp_attachment_path, final_attachment_path)\n",
    "\n",
    "                # Remove the temporary directory\n",
    "                shutil.rmtree(temp_dir)\n",
    "\n",
    "                print(\n",
    "                    f\"Downloaded {attachment_name} for feature {object_id} as {final_attachment_path}\"\n",
    "                )\n",
    "            else:\n",
    "                print(\n",
    "                    f\"Attachment {attachment_name} for feature {object_id} already exists as {final_attachment_path}\"\n",
    "                )\n",
    "\n",
    "\n",
    "# Download attachments\n",
    "download_attachments(feature_layer, output_dir)"
   ]
  },
  {
   "cell_type": "markdown",
   "metadata": {},
   "source": [
    "#### Use a LLM to analyze the attachments\n"
   ]
  },
  {
   "cell_type": "code",
   "execution_count": null,
   "metadata": {},
   "outputs": [],
   "source": [
    "azure_config = toml.load(\"config.toml\")[\"configs\"][0]\n",
    "llm = AzureChatOpenAI(\n",
    "    openai_api_version=azure_config[\"api_version\"],\n",
    "    azure_deployment=azure_config[\"deployment_name\"],\n",
    "    api_key=azure_config[\"api_key\"],\n",
    "    azure_endpoint=azure_config[\"api_endpoint\"],\n",
    "    model=azure_config[\"model_name\"],\n",
    "    model_name=azure_config[\"model_name\"],\n",
    "    temperature=0,\n",
    ")\n",
    "llm.invoke(\"hi\")"
   ]
  },
  {
   "cell_type": "markdown",
   "metadata": {},
   "source": [
    "#### Loop through each attachment and have the LLM analyze it and output the description to your feature service.\n"
   ]
  },
  {
   "cell_type": "code",
   "execution_count": null,
   "metadata": {},
   "outputs": [],
   "source": [
    "# Initialize dataframes to store results for pdf and image attachments\n",
    "results_pdf = pd.DataFrame()\n",
    "results_image = pd.DataFrame()\n",
    "\n",
    "# Loop through attachments folder\n",
    "for root, dirs, files in os.walk(output_dir):\n",
    "    for file in files:\n",
    "        global_id = file.split(\"__\")[0]\n",
    "        print(\"=====================================\")\n",
    "        print(f\"Processing attachment for global id: {global_id}\")\n",
    "\n",
    "        file_path = os.path.join(root, file)\n",
    "\n",
    "        attachment_description = None\n",
    "        if file.upper().endswith(\".PNG\") or file.upper().endswith(\".JPG\"):\n",
    "            print(\"analyzing image attachment ...\")\n",
    "            iec_chain = ImageExtractChain(model=llm, image_path=file_path)\n",
    "            result = iec_chain.extract_from_image()\n",
    "            attributes = vars(result)\n",
    "            attributes[\"globalid\"] = global_id\n",
    "            result_df = pd.DataFrame([attributes])\n",
    "            results_image = pd.concat([results_image, result_df], ignore_index=True)\n",
    "            attachment_description = iec_chain.format_for_attachment(result)\n",
    "        else:\n",
    "            print(\"analyzing pdf attachment ...\")\n",
    "            pdf_chain = PDFExtractChain(model=llm, pdf_path=file_path)\n",
    "            result = pdf_chain.extract_from_pdf()\n",
    "            attributes = vars(result)\n",
    "            attributes[\"globalid\"] = global_id\n",
    "            result_df = pd.DataFrame([attributes])\n",
    "            results_pdf = pd.concat([results_pdf, result_df], ignore_index=True)\n",
    "            attachment_description = pdf_chain.format_for_attachment(result)\n",
    "\n",
    "        if attachment_description is None:\n",
    "            continue\n",
    "\n",
    "        feature = [\n",
    "            {\n",
    "                \"attributes\": {\n",
    "                    feature_layer.properties.globalIdField: global_id,\n",
    "                    \"AIReview\": attachment_description,\n",
    "                }\n",
    "            }\n",
    "        ]\n",
    "\n",
    "        print(\"Updating AI Review...\")\n",
    "        feature_layer.edit_features(\n",
    "            use_global_ids=True,\n",
    "            updates=feature,\n",
    "        )\n",
    "\n",
    "        print(f\"Updated AI Review for global id: {global_id}\")\n",
    "        print(\"=====================================\")\n",
    "        print(\"\")"
   ]
  },
  {
   "cell_type": "markdown",
   "metadata": {},
   "source": [
    "#### View the output of the images in a pandas dataframe\n"
   ]
  },
  {
   "cell_type": "code",
   "execution_count": null,
   "metadata": {},
   "outputs": [],
   "source": [
    "results_image"
   ]
  },
  {
   "cell_type": "markdown",
   "metadata": {},
   "source": [
    "#### View the output of the pdfs in a pandas dataframe\n"
   ]
  },
  {
   "cell_type": "code",
   "execution_count": null,
   "metadata": {},
   "outputs": [],
   "source": [
    "results_pdf"
   ]
  }
 ],
 "metadata": {
  "kernelspec": {
   "display_name": ".venv",
   "language": "python",
   "name": "python3"
  },
  "language_info": {
   "codemirror_mode": {
    "name": "ipython",
    "version": 3
   },
   "file_extension": ".py",
   "mimetype": "text/x-python",
   "name": "python",
   "nbconvert_exporter": "python",
   "pygments_lexer": "ipython3",
   "version": "3.11.8"
  }
 },
 "nbformat": 4,
 "nbformat_minor": 2
}
