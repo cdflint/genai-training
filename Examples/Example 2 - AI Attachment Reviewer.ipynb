{
 "cells": [
  {
   "cell_type": "markdown",
   "metadata": {},
   "source": [
    "### Example 2 - AI Attachment Reviewer\n",
    "\n",
    "This example will walk you through the following steps:\n",
    "\n",
    "1. Downloading attachments from a Feature Service\n",
    "2. Use a LLM to analyze attachments (images & PDFs) and provide a text summary for each\n",
    "3. Write that summary back to the feature for review in an ArcGIS Manager Instant Application\n"
   ]
  },
  {
   "cell_type": "markdown",
   "metadata": {},
   "source": [
    "#### Download Feature Service Attachments\n",
    "\n",
    "This helpful section of code was pulled from Rami's excellent sample here: https://github.com/ralouta/ArcGIS_Code_Repo/blob/main/src/scripts/Feature%20Service%20Management/download_attachments_fs.ipynb.\n"
   ]
  },
  {
   "cell_type": "code",
   "execution_count": 4,
   "metadata": {},
   "outputs": [],
   "source": [
    "import toml\n",
    "import sys\n",
    "import os\n",
    "import shutil\n",
    "from arcgis.gis import GIS\n",
    "from langchain_openai import AzureChatOpenAI\n",
    "\n",
    "parent_dir = os.path.abspath(os.path.join(os.getcwd(), \"..\"))\n",
    "\n",
    "# Add the parent directory to the Python path\n",
    "sys.path.append(parent_dir)\n",
    "\n",
    "from chains.image_extractor import ImageExtractChain\n",
    "from chains.pdf_extractor import PDFExtractChain\n",
    "from models.image_information import ImageInformation\n",
    "from models.pdf_information import PDFInformation"
   ]
  },
  {
   "cell_type": "code",
   "execution_count": 5,
   "metadata": {},
   "outputs": [
    {
     "name": "stdout",
     "output_type": "stream",
     "text": [
      "Please sign in to your GIS and paste the code that is obtained below.\n",
      "If a web browser does not automatically open, please navigate to the URL below yourself instead.\n",
      "Opening web browser to navigate to: https://esrifederal.maps.arcgis.com/sharing/rest/oauth2/authorize?response_type=code&client_id=VEFjlNUX3GINnELq&redirect_uri=urn%3Aietf%3Awg%3Aoauth%3A2.0%3Aoob&state=DT6gFcoqaIVSVD0yYClHMuqG1RpKM9&allow_verification=false\n"
     ]
    },
    {
     "name": "stderr",
     "output_type": "stream",
     "text": [
      "c:\\Users\\rami8629\\AppData\\Local\\ESRI\\conda\\envs\\genai-auto-py3\\Lib\\site-packages\\urllib3\\connectionpool.py:1099: InsecureRequestWarning: Unverified HTTPS request is being made to host 'esrifederal.maps.arcgis.com'. Adding certificate verification is strongly advised. See: https://urllib3.readthedocs.io/en/latest/advanced-usage.html#tls-warnings\n",
      "  warnings.warn(\n"
     ]
    }
   ],
   "source": [
    "# Connect to Esri Federal AGOL\n",
    "gis = GIS(\"https://esrifederal.maps.arcgis.com\", client_id=\"VEFjlNUX3GINnELq\")"
   ]
  },
  {
   "cell_type": "code",
   "execution_count": null,
   "metadata": {},
   "outputs": [
    {
     "name": "stderr",
     "output_type": "stream",
     "text": [
      "C:\\Users\\rami8629\\AppData\\Roaming\\Python\\Python311\\site-packages\\IPython\\core\\interactiveshell.py:3577: DeprecatedWarning: create_folder is deprecated as of 2.3.0 and has be removed in 3.0.0. Use `gis.content.folders.create` instead.\n",
      "  exec(code_obj, self.user_global_ns, self.user_ns)\n"
     ]
    },
    {
     "name": "stdout",
     "output_type": "stream",
     "text": [
      "Folder already exists.\n"
     ]
    },
    {
     "name": "stderr",
     "output_type": "stream",
     "text": [
      "c:\\Users\\rami8629\\AppData\\Local\\ESRI\\conda\\envs\\genai-auto-py3\\Lib\\site-packages\\arcgis\\gis\\__init__.py:5770: DeprecationWarning: invalid escape sequence '\\s'\n",
      "  \"\"\"\n",
      "c:\\Users\\rami8629\\AppData\\Local\\ESRI\\conda\\envs\\genai-auto-py3\\Lib\\site-packages\\arcgis\\gis\\__init__.py:9219: DeprecationWarning: invalid escape sequence '\\{'\n",
      "  new_path = f\"{current_path}\\{title}\" if current_path else title\n",
      "c:\\Users\\rami8629\\AppData\\Local\\ESRI\\conda\\envs\\genai-auto-py3\\Lib\\site-packages\\arcgis\\gis\\__init__.py:13883: DeprecationWarning: invalid escape sequence '\\A'\n",
      "  \"\"\"\n",
      "c:\\Users\\rami8629\\AppData\\Local\\ESRI\\conda\\envs\\genai-auto-py3\\Lib\\site-packages\\arcgis\\gis\\__init__.py:16736: DeprecationWarning: invalid escape sequence '\\P'\n",
      "  \"\"\"\n",
      "c:\\Users\\rami8629\\AppData\\Local\\ESRI\\conda\\envs\\genai-auto-py3\\Lib\\site-packages\\arcgis\\_impl\\common\\_clone.py:2944: DeprecationWarning: invalid escape sequence '\\W'\n",
      "  name = re.sub(\"\\W+\", \"_\", name)\n",
      "c:\\Users\\rami8629\\AppData\\Local\\ESRI\\conda\\envs\\genai-auto-py3\\Lib\\site-packages\\arcgis\\_impl\\common\\_clone.py:5133: DeprecationWarning: invalid escape sequence '\\s'\n",
      "  \"<h:html\\s.*>?\",\n",
      "c:\\Users\\rami8629\\AppData\\Local\\ESRI\\conda\\envs\\genai-auto-py3\\Lib\\site-packages\\arcgis\\_impl\\common\\_clone.py:6620: DeprecationWarning: invalid escape sequence '\\['\n",
      "  results = set(re.findall('([{{(\"\\[ ])({0})([}})\"\\] ])'.format(field), text))\n",
      "c:\\Users\\rami8629\\AppData\\Local\\ESRI\\conda\\envs\\genai-auto-py3\\Lib\\site-packages\\arcgis\\_impl\\common\\_clone.py:6621: DeprecationWarning: invalid escape sequence '\\]'\n",
      "  start = re.findall('(^{0})([}})\"\\] ])'.format(field), text)\n",
      "c:\\Users\\rami8629\\AppData\\Local\\ESRI\\conda\\envs\\genai-auto-py3\\Lib\\site-packages\\arcgis\\_impl\\common\\_clone.py:6622: DeprecationWarning: invalid escape sequence '\\['\n",
      "  end = re.findall('([{{(\"\\[ ])({0}$)'.format(field), text)\n",
      "c:\\Users\\rami8629\\AppData\\Local\\ESRI\\conda\\envs\\genai-auto-py3\\Lib\\site-packages\\arcgis\\_impl\\common\\_clone.py:6851: DeprecationWarning: invalid escape sequence '\\['\n",
      "  results = re.findall(\"\\[(.*?)\\]\", label_expression)\n",
      "c:\\Users\\rami8629\\AppData\\Local\\ESRI\\conda\\envs\\genai-auto-py3\\Lib\\site-packages\\arcgis\\gis\\_impl\\_con\\_connection.py:1029: DeprecationWarning: invalid escape sequence '\\m'\n",
      "  \"\"\"\n",
      "c:\\Users\\rami8629\\AppData\\Local\\ESRI\\conda\\envs\\genai-auto-py3\\Lib\\site-packages\\arcgis\\gis\\_impl\\_con\\_connection.py:1282: DeprecationWarning: invalid escape sequence '\\m'\n",
      "  \"\"\"\n"
     ]
    },
    {
     "ename": "Exception",
     "evalue": "You do not have permissions to access this resource or perform this operation.\n(Error Code: 403)",
     "output_type": "error",
     "traceback": [
      "\u001b[1;31m---------------------------------------------------------------------------\u001b[0m",
      "\u001b[1;31mException\u001b[0m                                 Traceback (most recent call last)",
      "Cell \u001b[1;32mIn[3], line 7\u001b[0m\n\u001b[0;32m      5\u001b[0m folder_name \u001b[38;5;241m=\u001b[39m \u001b[38;5;124m\"\u001b[39m\u001b[38;5;124mSE Led Training GeoGenAI 2024\u001b[39m\u001b[38;5;124m\"\u001b[39m\n\u001b[0;32m      6\u001b[0m gis\u001b[38;5;241m.\u001b[39mcontent\u001b[38;5;241m.\u001b[39mcreate_folder(folder_name)\n\u001b[1;32m----> 7\u001b[0m \u001b[43mgis\u001b[49m\u001b[38;5;241;43m.\u001b[39;49m\u001b[43mcontent\u001b[49m\u001b[38;5;241;43m.\u001b[39;49m\u001b[43mclone_items\u001b[49m\u001b[43m(\u001b[49m\u001b[43mitems\u001b[49m\u001b[38;5;241;43m=\u001b[39;49m\u001b[43msource_group_items\u001b[49m\u001b[43m,\u001b[49m\u001b[43m \u001b[49m\u001b[43mcopy_data\u001b[49m\u001b[38;5;241;43m=\u001b[39;49m\u001b[38;5;28;43;01mTrue\u001b[39;49;00m\u001b[43m,\u001b[49m\u001b[43m \u001b[49m\u001b[43mfolder\u001b[49m\u001b[38;5;241;43m=\u001b[39;49m\u001b[43mfolder_name\u001b[49m\u001b[43m)\u001b[49m\n\u001b[0;32m      9\u001b[0m \u001b[38;5;28mprint\u001b[39m(\n\u001b[0;32m     10\u001b[0m     \u001b[38;5;124m\"\u001b[39m\u001b[38;5;124mdone cloning. please check your Content for a new folder and then make sure you locate the Item Id of the new feature service that was created. You will use that for the next step.\u001b[39m\u001b[38;5;124m\"\u001b[39m\n\u001b[0;32m     11\u001b[0m )\n",
      "File \u001b[1;32mc:\\Users\\rami8629\\AppData\\Local\\ESRI\\conda\\envs\\genai-auto-py3\\Lib\\site-packages\\arcgis\\gis\\__init__.py:8760\u001b[0m, in \u001b[0;36mContentManager.clone_items\u001b[1;34m(self, items, folder, item_extent, use_org_basemap, copy_data, copy_global_ids, search_existing_items, item_mapping, group_mapping, owner, preserve_item_id, **kwargs)\u001b[0m\n\u001b[0;32m   8741\u001b[0m     preserve_item_id \u001b[38;5;241m=\u001b[39m \u001b[38;5;28;01mFalse\u001b[39;00m\n\u001b[0;32m   8743\u001b[0m deep_cloner \u001b[38;5;241m=\u001b[39m clone\u001b[38;5;241m.\u001b[39m_DeepCloner(\n\u001b[0;32m   8744\u001b[0m     \u001b[38;5;28mself\u001b[39m\u001b[38;5;241m.\u001b[39m_gis,\n\u001b[0;32m   8745\u001b[0m     items,\n\u001b[1;32m   (...)\u001b[0m\n\u001b[0;32m   8758\u001b[0m     wab_code_attach\u001b[38;5;241m=\u001b[39mkwargs\u001b[38;5;241m.\u001b[39mpop(\u001b[38;5;124m\"\u001b[39m\u001b[38;5;124mcopy_code_attachment\u001b[39m\u001b[38;5;124m\"\u001b[39m, \u001b[38;5;28;01mTrue\u001b[39;00m),\n\u001b[0;32m   8759\u001b[0m )\n\u001b[1;32m-> 8760\u001b[0m \u001b[38;5;28;01mreturn\u001b[39;00m \u001b[43mdeep_cloner\u001b[49m\u001b[38;5;241;43m.\u001b[39;49m\u001b[43mclone\u001b[49m\u001b[43m(\u001b[49m\u001b[43m)\u001b[49m\n",
      "File \u001b[1;32mc:\\Users\\rami8629\\AppData\\Local\\ESRI\\conda\\envs\\genai-auto-py3\\Lib\\site-packages\\arcgis\\_impl\\common\\_clone.py:1333\u001b[0m, in \u001b[0;36m_DeepCloner.clone\u001b[1;34m(self)\u001b[0m\n\u001b[0;32m   1329\u001b[0m \u001b[38;5;66;03m# elif len([node for node in self._graph.values() if isinstance(node, _StoryMapDefinition)]) > 0:\u001b[39;00m\n\u001b[0;32m   1330\u001b[0m \u001b[38;5;66;03m#    return self._clone_synchronous()\u001b[39;00m\n\u001b[0;32m   1331\u001b[0m \u001b[38;5;28;01melse\u001b[39;00m:\n\u001b[0;32m   1332\u001b[0m     \u001b[38;5;28;01mwith\u001b[39;00m concurrent\u001b[38;5;241m.\u001b[39mfutures\u001b[38;5;241m.\u001b[39mThreadPoolExecutor(max_workers\u001b[38;5;241m=\u001b[39m\u001b[38;5;241m20\u001b[39m) \u001b[38;5;28;01mas\u001b[39;00m executor:\n\u001b[1;32m-> 1333\u001b[0m         results \u001b[38;5;241m=\u001b[39m \u001b[43mexecutor\u001b[49m\u001b[38;5;241;43m.\u001b[39;49m\u001b[43msubmit\u001b[49m\u001b[43m(\u001b[49m\u001b[38;5;28;43mself\u001b[39;49m\u001b[38;5;241;43m.\u001b[39;49m\u001b[43m_clone\u001b[49m\u001b[43m,\u001b[49m\u001b[43m \u001b[49m\u001b[43mexecutor\u001b[49m\u001b[43m)\u001b[49m\u001b[38;5;241;43m.\u001b[39;49m\u001b[43mresult\u001b[49m\u001b[43m(\u001b[49m\u001b[43m)\u001b[49m\n\u001b[0;32m   1334\u001b[0m         \u001b[38;5;28;01mreturn\u001b[39;00m results\n",
      "File \u001b[1;32mc:\\Users\\rami8629\\AppData\\Local\\ESRI\\conda\\envs\\genai-auto-py3\\Lib\\concurrent\\futures\\_base.py:456\u001b[0m, in \u001b[0;36mFuture.result\u001b[1;34m(self, timeout)\u001b[0m\n\u001b[0;32m    454\u001b[0m     \u001b[38;5;28;01mraise\u001b[39;00m CancelledError()\n\u001b[0;32m    455\u001b[0m \u001b[38;5;28;01melif\u001b[39;00m \u001b[38;5;28mself\u001b[39m\u001b[38;5;241m.\u001b[39m_state \u001b[38;5;241m==\u001b[39m FINISHED:\n\u001b[1;32m--> 456\u001b[0m     \u001b[38;5;28;01mreturn\u001b[39;00m \u001b[38;5;28;43mself\u001b[39;49m\u001b[38;5;241;43m.\u001b[39;49m\u001b[43m__get_result\u001b[49m\u001b[43m(\u001b[49m\u001b[43m)\u001b[49m\n\u001b[0;32m    457\u001b[0m \u001b[38;5;28;01melse\u001b[39;00m:\n\u001b[0;32m    458\u001b[0m     \u001b[38;5;28;01mraise\u001b[39;00m \u001b[38;5;167;01mTimeoutError\u001b[39;00m()\n",
      "File \u001b[1;32mc:\\Users\\rami8629\\AppData\\Local\\ESRI\\conda\\envs\\genai-auto-py3\\Lib\\concurrent\\futures\\_base.py:401\u001b[0m, in \u001b[0;36mFuture.__get_result\u001b[1;34m(self)\u001b[0m\n\u001b[0;32m    399\u001b[0m \u001b[38;5;28;01mif\u001b[39;00m \u001b[38;5;28mself\u001b[39m\u001b[38;5;241m.\u001b[39m_exception:\n\u001b[0;32m    400\u001b[0m     \u001b[38;5;28;01mtry\u001b[39;00m:\n\u001b[1;32m--> 401\u001b[0m         \u001b[38;5;28;01mraise\u001b[39;00m \u001b[38;5;28mself\u001b[39m\u001b[38;5;241m.\u001b[39m_exception\n\u001b[0;32m    402\u001b[0m     \u001b[38;5;28;01mfinally\u001b[39;00m:\n\u001b[0;32m    403\u001b[0m         \u001b[38;5;66;03m# Break a reference cycle with the exception in self._exception\u001b[39;00m\n\u001b[0;32m    404\u001b[0m         \u001b[38;5;28mself\u001b[39m \u001b[38;5;241m=\u001b[39m \u001b[38;5;28;01mNone\u001b[39;00m\n",
      "File \u001b[1;32mc:\\Users\\rami8629\\AppData\\Local\\ESRI\\conda\\envs\\genai-auto-py3\\Lib\\concurrent\\futures\\thread.py:58\u001b[0m, in \u001b[0;36m_WorkItem.run\u001b[1;34m(self)\u001b[0m\n\u001b[0;32m     55\u001b[0m     \u001b[38;5;28;01mreturn\u001b[39;00m\n\u001b[0;32m     57\u001b[0m \u001b[38;5;28;01mtry\u001b[39;00m:\n\u001b[1;32m---> 58\u001b[0m     result \u001b[38;5;241m=\u001b[39m \u001b[38;5;28;43mself\u001b[39;49m\u001b[38;5;241;43m.\u001b[39;49m\u001b[43mfn\u001b[49m\u001b[43m(\u001b[49m\u001b[38;5;241;43m*\u001b[39;49m\u001b[38;5;28;43mself\u001b[39;49m\u001b[38;5;241;43m.\u001b[39;49m\u001b[43margs\u001b[49m\u001b[43m,\u001b[49m\u001b[43m \u001b[49m\u001b[38;5;241;43m*\u001b[39;49m\u001b[38;5;241;43m*\u001b[39;49m\u001b[38;5;28;43mself\u001b[39;49m\u001b[38;5;241;43m.\u001b[39;49m\u001b[43mkwargs\u001b[49m\u001b[43m)\u001b[49m\n\u001b[0;32m     59\u001b[0m \u001b[38;5;28;01mexcept\u001b[39;00m \u001b[38;5;167;01mBaseException\u001b[39;00m \u001b[38;5;28;01mas\u001b[39;00m exc:\n\u001b[0;32m     60\u001b[0m     \u001b[38;5;28mself\u001b[39m\u001b[38;5;241m.\u001b[39mfuture\u001b[38;5;241m.\u001b[39mset_exception(exc)\n",
      "File \u001b[1;32mc:\\Users\\rami8629\\AppData\\Local\\ESRI\\conda\\envs\\genai-auto-py3\\Lib\\site-packages\\arcgis\\_impl\\common\\_clone.py:1230\u001b[0m, in \u001b[0;36m_DeepCloner._clone\u001b[1;34m(self, excecutor)\u001b[0m\n\u001b[0;32m   1225\u001b[0m \u001b[38;5;28;01mdef\u001b[39;00m \u001b[38;5;21m_clone\u001b[39m(\u001b[38;5;28mself\u001b[39m, excecutor):\n\u001b[0;32m   1226\u001b[0m \u001b[38;5;250m    \u001b[39m\u001b[38;5;124;03m\"\"\"\u001b[39;00m\n\u001b[0;32m   1227\u001b[0m \u001b[38;5;124;03m    This processes each node using the concurrent.futures so we can have some multi-threaded stuff for POST/GET\u001b[39;00m\n\u001b[0;32m   1228\u001b[0m \u001b[38;5;124;03m    :return:\u001b[39;00m\n\u001b[0;32m   1229\u001b[0m \u001b[38;5;124;03m    \"\"\"\u001b[39;00m\n\u001b[1;32m-> 1230\u001b[0m     \u001b[38;5;28;43mself\u001b[39;49m\u001b[38;5;241;43m.\u001b[39;49m\u001b[43m_clone_init\u001b[49m\u001b[43m(\u001b[49m\u001b[43m)\u001b[49m\n\u001b[0;32m   1232\u001b[0m     leaf_nodes \u001b[38;5;241m=\u001b[39m \u001b[38;5;28mself\u001b[39m\u001b[38;5;241m.\u001b[39m_get_leaf_nodes()\n\u001b[0;32m   1233\u001b[0m     level \u001b[38;5;241m=\u001b[39m \u001b[38;5;241m0\u001b[39m\n",
      "File \u001b[1;32mc:\\Users\\rami8629\\AppData\\Local\\ESRI\\conda\\envs\\genai-auto-py3\\Lib\\site-packages\\arcgis\\_impl\\common\\_clone.py:1116\u001b[0m, in \u001b[0;36m_DeepCloner._clone_init\u001b[1;34m(self)\u001b[0m\n\u001b[0;32m   1114\u001b[0m target_folder \u001b[38;5;241m=\u001b[39m \u001b[38;5;28;01mNone\u001b[39;00m\n\u001b[0;32m   1115\u001b[0m \u001b[38;5;28;01mif\u001b[39;00m \u001b[38;5;28mself\u001b[39m\u001b[38;5;241m.\u001b[39mfolder \u001b[38;5;129;01mis\u001b[39;00m \u001b[38;5;129;01mnot\u001b[39;00m \u001b[38;5;28;01mNone\u001b[39;00m:\n\u001b[1;32m-> 1116\u001b[0m     folders \u001b[38;5;241m=\u001b[39m \u001b[43muser\u001b[49m\u001b[38;5;241;43m.\u001b[39;49m\u001b[43mfolders\u001b[49m\n\u001b[0;32m   1117\u001b[0m     target_folder \u001b[38;5;241m=\u001b[39m \u001b[38;5;28mnext\u001b[39m(\n\u001b[0;32m   1118\u001b[0m         (f \u001b[38;5;28;01mfor\u001b[39;00m f \u001b[38;5;129;01min\u001b[39;00m folders \u001b[38;5;28;01mif\u001b[39;00m f[\u001b[38;5;124m\"\u001b[39m\u001b[38;5;124mtitle\u001b[39m\u001b[38;5;124m\"\u001b[39m]\u001b[38;5;241m.\u001b[39mlower() \u001b[38;5;241m==\u001b[39m \u001b[38;5;28mself\u001b[39m\u001b[38;5;241m.\u001b[39mfolder\u001b[38;5;241m.\u001b[39mlower()),\n\u001b[0;32m   1119\u001b[0m         \u001b[38;5;28;01mNone\u001b[39;00m,\n\u001b[0;32m   1120\u001b[0m     )\n\u001b[0;32m   1121\u001b[0m     \u001b[38;5;28;01mif\u001b[39;00m target_folder \u001b[38;5;129;01mis\u001b[39;00m \u001b[38;5;28;01mNone\u001b[39;00m:\n",
      "File \u001b[1;32mc:\\Users\\rami8629\\AppData\\Local\\ESRI\\conda\\envs\\genai-auto-py3\\Lib\\site-packages\\arcgis\\gis\\__init__.py:13121\u001b[0m, in \u001b[0;36mUser.folders\u001b[1;34m(self)\u001b[0m\n\u001b[0;32m  13095\u001b[0m \u001b[38;5;129m@property\u001b[39m\n\u001b[0;32m  13096\u001b[0m \u001b[38;5;28;01mdef\u001b[39;00m \u001b[38;5;21mfolders\u001b[39m(\u001b[38;5;28mself\u001b[39m):\n\u001b[0;32m  13097\u001b[0m \u001b[38;5;250m    \u001b[39m\u001b[38;5;124;03m\"\"\"\u001b[39;00m\n\u001b[0;32m  13098\u001b[0m \u001b[38;5;124;03m    The ``folders`` property, when called, retrieves the list of the user's folders.\u001b[39;00m\n\u001b[0;32m  13099\u001b[0m \n\u001b[1;32m   (...)\u001b[0m\n\u001b[0;32m  13119\u001b[0m \n\u001b[0;32m  13120\u001b[0m \u001b[38;5;124;03m    \"\"\"\u001b[39;00m\n\u001b[1;32m> 13121\u001b[0m     \u001b[38;5;28;01mreturn\u001b[39;00m \u001b[38;5;28;43mself\u001b[39;49m\u001b[38;5;241;43m.\u001b[39;49m\u001b[43m_portal\u001b[49m\u001b[38;5;241;43m.\u001b[39;49m\u001b[43muser_folders\u001b[49m\u001b[43m(\u001b[49m\u001b[38;5;28;43mself\u001b[39;49m\u001b[38;5;241;43m.\u001b[39;49m\u001b[43m_user_id\u001b[49m\u001b[43m)\u001b[49m\n",
      "File \u001b[1;32mc:\\Users\\rami8629\\AppData\\Local\\ESRI\\conda\\envs\\genai-auto-py3\\Lib\\site-packages\\arcgis\\gis\\_impl\\_portalpy.py:1890\u001b[0m, in \u001b[0;36mPortal.user_folders\u001b[1;34m(self, owner)\u001b[0m\n\u001b[0;32m   1889\u001b[0m \u001b[38;5;28;01mdef\u001b[39;00m \u001b[38;5;21muser_folders\u001b[39m(\u001b[38;5;28mself\u001b[39m, owner: \u001b[38;5;28mstr\u001b[39m):\n\u001b[1;32m-> 1890\u001b[0m     resp \u001b[38;5;241m=\u001b[39m \u001b[38;5;28;43mself\u001b[39;49m\u001b[38;5;241;43m.\u001b[39;49m\u001b[43m_contents_page\u001b[49m\u001b[43m(\u001b[49m\u001b[43mowner\u001b[49m\u001b[43m,\u001b[49m\u001b[43m \u001b[49m\u001b[38;5;28;43;01mNone\u001b[39;49;00m\u001b[43m,\u001b[49m\u001b[43m \u001b[49m\u001b[38;5;241;43m1\u001b[39;49m\u001b[43m,\u001b[49m\u001b[43m \u001b[49m\u001b[38;5;241;43m10\u001b[39;49m\u001b[43m)\u001b[49m\n\u001b[0;32m   1891\u001b[0m     results \u001b[38;5;241m=\u001b[39m resp\u001b[38;5;241m.\u001b[39mget(\u001b[38;5;124m\"\u001b[39m\u001b[38;5;124mfolders\u001b[39m\u001b[38;5;124m\"\u001b[39m)\n\u001b[0;32m   1892\u001b[0m     \u001b[38;5;28;01mreturn\u001b[39;00m results\n",
      "File \u001b[1;32mc:\\Users\\rami8629\\AppData\\Local\\ESRI\\conda\\envs\\genai-auto-py3\\Lib\\site-packages\\arcgis\\gis\\_impl\\_portalpy.py:2847\u001b[0m, in \u001b[0;36mPortal._contents_page\u001b[1;34m(self, owner, folderid, start, num)\u001b[0m\n\u001b[0;32m   2845\u001b[0m \u001b[38;5;28;01mif\u001b[39;00m folderid:\n\u001b[0;32m   2846\u001b[0m     path \u001b[38;5;241m=\u001b[39m \u001b[38;5;124m\"\u001b[39m\u001b[38;5;132;01m{}\u001b[39;00m\u001b[38;5;124m/\u001b[39m\u001b[38;5;132;01m{}\u001b[39;00m\u001b[38;5;124m\"\u001b[39m\u001b[38;5;241m.\u001b[39mformat(path, folderid)\n\u001b[1;32m-> 2847\u001b[0m \u001b[38;5;28;01mreturn\u001b[39;00m \u001b[38;5;28;43mself\u001b[39;49m\u001b[38;5;241;43m.\u001b[39;49m\u001b[43mcon\u001b[49m\u001b[38;5;241;43m.\u001b[39;49m\u001b[43mpost\u001b[49m\u001b[43m(\u001b[49m\u001b[43mpath\u001b[49m\u001b[43m,\u001b[49m\u001b[43m \u001b[49m\u001b[43mpostdata\u001b[49m\u001b[43m)\u001b[49m\n",
      "File \u001b[1;32mc:\\Users\\rami8629\\AppData\\Local\\ESRI\\conda\\envs\\genai-auto-py3\\Lib\\site-packages\\arcgis\\gis\\_impl\\_con\\_connection.py:1526\u001b[0m, in \u001b[0;36mConnection.post\u001b[1;34m(self, path, params, files, **kwargs)\u001b[0m\n\u001b[0;32m   1524\u001b[0m \u001b[38;5;28;01mif\u001b[39;00m return_raw_response:\n\u001b[0;32m   1525\u001b[0m     \u001b[38;5;28;01mreturn\u001b[39;00m resp\n\u001b[1;32m-> 1526\u001b[0m \u001b[38;5;28;01mreturn\u001b[39;00m \u001b[38;5;28;43mself\u001b[39;49m\u001b[38;5;241;43m.\u001b[39;49m\u001b[43m_handle_response\u001b[49m\u001b[43m(\u001b[49m\n\u001b[0;32m   1527\u001b[0m \u001b[43m    \u001b[49m\u001b[43mresp\u001b[49m\u001b[38;5;241;43m=\u001b[39;49m\u001b[43mresp\u001b[49m\u001b[43m,\u001b[49m\n\u001b[0;32m   1528\u001b[0m \u001b[43m    \u001b[49m\u001b[43mout_path\u001b[49m\u001b[38;5;241;43m=\u001b[39;49m\u001b[43mout_path\u001b[49m\u001b[43m,\u001b[49m\n\u001b[0;32m   1529\u001b[0m \u001b[43m    \u001b[49m\u001b[43mfile_name\u001b[49m\u001b[38;5;241;43m=\u001b[39;49m\u001b[43mfile_name\u001b[49m\u001b[43m,\u001b[49m\n\u001b[0;32m   1530\u001b[0m \u001b[43m    \u001b[49m\u001b[43mtry_json\u001b[49m\u001b[38;5;241;43m=\u001b[39;49m\u001b[43mtry_json\u001b[49m\u001b[43m,\u001b[49m\n\u001b[0;32m   1531\u001b[0m \u001b[43m    \u001b[49m\u001b[43mforce_bytes\u001b[49m\u001b[38;5;241;43m=\u001b[39;49m\u001b[43mkwargs\u001b[49m\u001b[38;5;241;43m.\u001b[39;49m\u001b[43mpop\u001b[49m\u001b[43m(\u001b[49m\u001b[38;5;124;43m\"\u001b[39;49m\u001b[38;5;124;43mforce_bytes\u001b[39;49m\u001b[38;5;124;43m\"\u001b[39;49m\u001b[43m,\u001b[49m\u001b[43m \u001b[49m\u001b[38;5;28;43;01mFalse\u001b[39;49;00m\u001b[43m)\u001b[49m\u001b[43m,\u001b[49m\n\u001b[0;32m   1532\u001b[0m \u001b[43m\u001b[49m\u001b[43m)\u001b[49m\n",
      "File \u001b[1;32mc:\\Users\\rami8629\\AppData\\Local\\ESRI\\conda\\envs\\genai-auto-py3\\Lib\\site-packages\\arcgis\\gis\\_impl\\_con\\_connection.py:1001\u001b[0m, in \u001b[0;36mConnection._handle_response\u001b[1;34m(self, resp, file_name, out_path, try_json, force_bytes, ignore_error_key)\u001b[0m\n\u001b[0;32m    999\u001b[0m             \u001b[38;5;28;01mreturn\u001b[39;00m data\n\u001b[0;32m   1000\u001b[0m         errorcode \u001b[38;5;241m=\u001b[39m data[\u001b[38;5;124m\"\u001b[39m\u001b[38;5;124merror\u001b[39m\u001b[38;5;124m\"\u001b[39m][\u001b[38;5;124m\"\u001b[39m\u001b[38;5;124mcode\u001b[39m\u001b[38;5;124m\"\u001b[39m] \u001b[38;5;28;01mif\u001b[39;00m \u001b[38;5;124m\"\u001b[39m\u001b[38;5;124mcode\u001b[39m\u001b[38;5;124m\"\u001b[39m \u001b[38;5;129;01min\u001b[39;00m data[\u001b[38;5;124m\"\u001b[39m\u001b[38;5;124merror\u001b[39m\u001b[38;5;124m\"\u001b[39m] \u001b[38;5;28;01melse\u001b[39;00m \u001b[38;5;241m0\u001b[39m\n\u001b[1;32m-> 1001\u001b[0m         \u001b[38;5;28;43mself\u001b[39;49m\u001b[38;5;241;43m.\u001b[39;49m\u001b[43m_handle_json_error\u001b[49m\u001b[43m(\u001b[49m\u001b[43mdata\u001b[49m\u001b[43m[\u001b[49m\u001b[38;5;124;43m\"\u001b[39;49m\u001b[38;5;124;43merror\u001b[39;49m\u001b[38;5;124;43m\"\u001b[39;49m\u001b[43m]\u001b[49m\u001b[43m,\u001b[49m\u001b[43m \u001b[49m\u001b[43merrorcode\u001b[49m\u001b[43m)\u001b[49m\n\u001b[0;32m   1002\u001b[0m     \u001b[38;5;28;01mreturn\u001b[39;00m data\n\u001b[0;32m   1003\u001b[0m \u001b[38;5;28;01melse\u001b[39;00m:\n",
      "File \u001b[1;32mc:\\Users\\rami8629\\AppData\\Local\\ESRI\\conda\\envs\\genai-auto-py3\\Lib\\site-packages\\arcgis\\gis\\_impl\\_con\\_connection.py:1024\u001b[0m, in \u001b[0;36mConnection._handle_json_error\u001b[1;34m(self, error, errorcode)\u001b[0m\n\u001b[0;32m   1021\u001b[0m                 \u001b[38;5;66;03m# _log.error(errordetail)\u001b[39;00m\n\u001b[0;32m   1023\u001b[0m errormessage \u001b[38;5;241m=\u001b[39m errormessage \u001b[38;5;241m+\u001b[39m \u001b[38;5;124m\"\u001b[39m\u001b[38;5;130;01m\\n\u001b[39;00m\u001b[38;5;124m(Error Code: \u001b[39m\u001b[38;5;124m\"\u001b[39m \u001b[38;5;241m+\u001b[39m \u001b[38;5;28mstr\u001b[39m(errorcode) \u001b[38;5;241m+\u001b[39m \u001b[38;5;124m\"\u001b[39m\u001b[38;5;124m)\u001b[39m\u001b[38;5;124m\"\u001b[39m\n\u001b[1;32m-> 1024\u001b[0m \u001b[38;5;28;01mraise\u001b[39;00m \u001b[38;5;167;01mException\u001b[39;00m(errormessage)\n",
      "\u001b[1;31mException\u001b[0m: You do not have permissions to access this resource or perform this operation.\n(Error Code: 403)"
     ]
    }
   ],
   "source": [
    "# clone over a feature service and a webmap to your own content in a new folder\n",
    "source_group = gis.groups.get(\"78a63c27e59941bbbff470a3f62e2d92\")\n",
    "source_group_items = source_group.content()\n",
    "\n",
    "folder_name = \"SE Led Training GeoGenAI 2024\"\n",
    "gis.content.create_folder(folder_name)\n",
    "gis.content.clone_items(items=source_group_items, copy_data=True, folder=folder_name)\n",
    "\n",
    "print(\n",
    "    \"done cloning. please check your Content for a new folder and then make sure you locate the Item Id of the new feature service that was created. You will use that for the next step.\"\n",
    ")"
   ]
  },
  {
   "cell_type": "code",
   "execution_count": 6,
   "metadata": {},
   "outputs": [],
   "source": [
    "# Get the feature layer item id from the previous cloning step.\n",
    "item_id = \"ac062cbb932b478f96075b4ae326447c\"\n",
    "\n",
    "# Get the item\n",
    "item = gis.content.get(item_id)\n",
    "\n",
    "feature_layer = item.layers[0]\n",
    "\n",
    "# Create a directory to save attachments\n",
    "output_dir = \"attachments\"\n",
    "if not os.path.exists(output_dir):\n",
    "    os.makedirs(output_dir)"
   ]
  },
  {
   "cell_type": "code",
   "execution_count": 7,
   "metadata": {},
   "outputs": [
    {
     "name": "stdout",
     "output_type": "stream",
     "text": [
      "Attachment Brazil_Manaus_drought.jpg for feature 1 already exists as attachments\\d51d99fe-6d6c-4b87-8192-a96e5259748e__Brazil_Manaus_drought.jpg\n",
      "Attachment Brazil_temperature_anomaly_december.png for feature 2 already exists as attachments\\ae7f789d-84fd-4dd1-9fcb-c78fdf233763__Brazil_temperature_anomaly_december.png\n",
      "Attachment France_carte_pastilles_10x.png for feature 3 already exists as attachments\\d12a33d7-972f-4ed8-bdbd-59eca23e784b__France_carte_pastilles_10x.png\n",
      "Attachment Argentina_Informe meteorologico 16-17 diciembre 2023.pdf for feature 4 already exists as attachments\\6aa762a8-dee6-4c3c-bb29-82f847faef50__Argentina_Informe meteorologico 16-17 diciembre 2023.pdf\n",
      "Attachment Slovenia_neurja_2jun2022.pdf for feature 5 already exists as attachments\\f70a5812-b3a4-4a51-bf62-cec6ee70fe5d__Slovenia_neurja_2jun2022.pdf\n"
     ]
    }
   ],
   "source": [
    "# Function to download attachments\n",
    "def download_attachments(feature_layer, output_dir):\n",
    "    # Query all features\n",
    "    features = feature_layer.query(where=\"1=1\", out_fields=\"*\").features\n",
    "\n",
    "    for feature in features:\n",
    "        object_id = feature.attributes[feature_layer.properties.objectIdField]\n",
    "        globalid = feature.attributes[feature_layer.properties.globalIdField]\n",
    "        attachments = feature_layer.attachments.get_list(object_id)\n",
    "\n",
    "        for attachment in attachments:\n",
    "            attachment_id = attachment[\"id\"]\n",
    "            attachment_name = attachment[\"name\"]\n",
    "            final_attachment_path = os.path.join(\n",
    "                output_dir, f\"{globalid}__{attachment_name}\"\n",
    "            )\n",
    "\n",
    "            # Check if the attachment already exists\n",
    "            if not os.path.exists(final_attachment_path):\n",
    "                temp_dir = os.path.join(output_dir, f\"temp_{object_id}\")\n",
    "\n",
    "                # Create a temporary directory to download the attachment\n",
    "                if not os.path.exists(temp_dir):\n",
    "                    os.makedirs(temp_dir)\n",
    "\n",
    "                # Download the attachment to the temporary directory\n",
    "                feature_layer.attachments.download(\n",
    "                    oid=object_id, attachment_id=attachment_id, save_path=temp_dir\n",
    "                )\n",
    "\n",
    "                # Move the attachment from the temporary directory to the output directory with the new name\n",
    "                temp_attachment_path = os.path.join(temp_dir, attachment_name)\n",
    "                shutil.move(temp_attachment_path, final_attachment_path)\n",
    "\n",
    "                # Remove the temporary directory\n",
    "                shutil.rmtree(temp_dir)\n",
    "\n",
    "                print(\n",
    "                    f\"Downloaded {attachment_name} for feature {object_id} as {final_attachment_path}\"\n",
    "                )\n",
    "            else:\n",
    "                print(\n",
    "                    f\"Attachment {attachment_name} for feature {object_id} already exists as {final_attachment_path}\"\n",
    "                )\n",
    "\n",
    "\n",
    "# Download attachments\n",
    "download_attachments(feature_layer, output_dir)"
   ]
  },
  {
   "cell_type": "markdown",
   "metadata": {},
   "source": [
    "### Use a LLM to analyze the attachments\n"
   ]
  },
  {
   "cell_type": "code",
   "execution_count": 8,
   "metadata": {},
   "outputs": [
    {
     "data": {
      "text/plain": [
       "AIMessage(content='Hello! How can I assist you today?', response_metadata={'token_usage': {'completion_tokens': 9, 'prompt_tokens': 8, 'total_tokens': 17}, 'model_name': 'gpt-4o-2024-05-13', 'system_fingerprint': 'fp_abc28019ad', 'prompt_filter_results': [{'prompt_index': 0, 'content_filter_results': {'hate': {'filtered': False, 'severity': 'safe'}, 'jailbreak': {'filtered': False, 'detected': False}, 'self_harm': {'filtered': False, 'severity': 'safe'}, 'sexual': {'filtered': False, 'severity': 'safe'}, 'violence': {'filtered': False, 'severity': 'safe'}}}], 'finish_reason': 'stop', 'logprobs': None, 'content_filter_results': {'hate': {'filtered': False, 'severity': 'safe'}, 'protected_material_code': {'filtered': False, 'detected': False}, 'protected_material_text': {'filtered': False, 'detected': False}, 'self_harm': {'filtered': False, 'severity': 'safe'}, 'sexual': {'filtered': False, 'severity': 'safe'}, 'violence': {'filtered': False, 'severity': 'safe'}}}, id='run-47dff8d4-b10c-4209-a586-17687e84e05f-0', usage_metadata={'input_tokens': 8, 'output_tokens': 9, 'total_tokens': 17})"
      ]
     },
     "execution_count": 8,
     "metadata": {},
     "output_type": "execute_result"
    }
   ],
   "source": [
    "azure_config = toml.load(\"config.toml\")[\"configs\"][0]\n",
    "llm = AzureChatOpenAI(\n",
    "    openai_api_version=azure_config[\"api_version\"],\n",
    "    azure_deployment=azure_config[\"deployment_name\"],\n",
    "    api_key=azure_config[\"api_key\"],\n",
    "    azure_endpoint=azure_config[\"api_endpoint\"],\n",
    "    model=azure_config[\"model_name\"],\n",
    "    model_name=azure_config[\"model_name\"],\n",
    "    temperature=0,\n",
    ")\n",
    "llm.invoke(\"hi\")"
   ]
  },
  {
   "cell_type": "code",
   "execution_count": null,
   "metadata": {},
   "outputs": [
    {
     "name": "stdout",
     "output_type": "stream",
     "text": [
      "=====================================\n",
      "Processing attachment for global id: 6aa762a8-dee6-4c3c-bb29-82f847faef50\n",
      "analyzing pdf attachment ...\n",
      "Updating AI Review...\n",
      "Updated AI Review for global id: 6aa762a8-dee6-4c3c-bb29-82f847faef50\n",
      "=====================================\n",
      "\n",
      "=====================================\n",
      "Processing attachment for global id: ae7f789d-84fd-4dd1-9fcb-c78fdf233763\n",
      "analyzing image attachment ...\n",
      "Updating AI Review...\n",
      "Updated AI Review for global id: ae7f789d-84fd-4dd1-9fcb-c78fdf233763\n",
      "=====================================\n",
      "\n",
      "=====================================\n",
      "Processing attachment for global id: d12a33d7-972f-4ed8-bdbd-59eca23e784b\n",
      "analyzing image attachment ...\n",
      "Updating AI Review...\n",
      "Updated AI Review for global id: d12a33d7-972f-4ed8-bdbd-59eca23e784b\n",
      "=====================================\n",
      "\n",
      "=====================================\n",
      "Processing attachment for global id: d51d99fe-6d6c-4b87-8192-a96e5259748e\n",
      "analyzing image attachment ...\n",
      "Updating AI Review...\n",
      "Updated AI Review for global id: d51d99fe-6d6c-4b87-8192-a96e5259748e\n",
      "=====================================\n",
      "\n",
      "=====================================\n",
      "Processing attachment for global id: f70a5812-b3a4-4a51-bf62-cec6ee70fe5d\n",
      "analyzing pdf attachment ...\n",
      "Updating AI Review...\n",
      "Updated AI Review for global id: f70a5812-b3a4-4a51-bf62-cec6ee70fe5d\n",
      "=====================================\n",
      "\n"
     ]
    }
   ],
   "source": [
    "# loop through attachments folder\n",
    "for root, dirs, files in os.walk(output_dir):\n",
    "    for file in files:\n",
    "        global_id = file.split(\"__\")[0]\n",
    "        print(\"=====================================\")\n",
    "        print(f\"Processing attachment for global id: {global_id}\")\n",
    "\n",
    "        file_path = os.path.join(root, file)\n",
    "\n",
    "        attachment_description = None\n",
    "        if file.upper().endswith(\".PNG\") or file.upper().endswith(\".JPG\"):\n",
    "            print(\"analyzing image attachment ...\")\n",
    "            iec_chain = ImageExtractChain(model=llm, image_path=file_path)\n",
    "            result = iec_chain.extract_from_image()\n",
    "            attachment_description = iec_chain.format_for_attachment(result)\n",
    "        else:\n",
    "            print(\"analyzing pdf attachment ...\")\n",
    "            pdf_chain = PDFExtractChain(model=llm, pdf_path=file_path)\n",
    "            result = pdf_chain.extract_from_pdf()\n",
    "            attachment_description = pdf_chain.format_for_attachment(result)\n",
    "\n",
    "        if attachment_description is None:\n",
    "            continue\n",
    "\n",
    "        feature = [\n",
    "            {\n",
    "                \"attributes\": {\n",
    "                    feature_layer.properties.globalIdField: global_id,\n",
    "                    \"AIReview\": attachment_description,\n",
    "                }\n",
    "            }\n",
    "        ]\n",
    "\n",
    "        print(\"Updating AI Review...\")\n",
    "        feature_layer.edit_features(\n",
    "            use_global_ids=True,\n",
    "            updates=feature,\n",
    "        )\n",
    "\n",
    "        print(f\"Updated AI Review for global id: {global_id}\")\n",
    "        print(\"=====================================\")\n",
    "        print(\"\")"
   ]
  }
 ],
 "metadata": {
  "kernelspec": {
   "display_name": ".venv",
   "language": "python",
   "name": "python3"
  },
  "language_info": {
   "codemirror_mode": {
    "name": "ipython",
    "version": 3
   },
   "file_extension": ".py",
   "mimetype": "text/x-python",
   "name": "python",
   "nbconvert_exporter": "python",
   "pygments_lexer": "ipython3",
   "version": "3.11.8"
  }
 },
 "nbformat": 4,
 "nbformat_minor": 2
}
