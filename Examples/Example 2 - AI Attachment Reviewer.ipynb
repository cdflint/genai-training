{
 "cells": [
  {
   "cell_type": "markdown",
   "metadata": {},
   "source": [
    "### Example 2 - AI Attachment Reviewer\n",
    "\n",
    "This example will walk you through the following steps:\n",
    "\n",
    "1. Downloading attachments from a Feature Service\n",
    "2. Use a LLM to analyze attachments (images & PDFs) and provide a text summary for each\n",
    "3. Write that summary back to the feature for review in an ArcGIS Manager Instant Application\n"
   ]
  },
  {
   "cell_type": "markdown",
   "metadata": {},
   "source": [
    "#### Download Feature Service Attachments\n",
    "\n",
    "This helpful section of code was pulled from Rami's excellent sample here: https://github.com/ralouta/ArcGIS_Code_Repo/blob/main/src/scripts/Feature%20Service%20Management/download_attachments_fs.ipynb.\n"
   ]
  },
  {
   "cell_type": "code",
   "execution_count": null,
   "metadata": {},
   "outputs": [],
   "source": [
    "import toml\n",
    "import sys\n",
    "import os\n",
    "import shutil\n",
    "from arcgis.gis import GIS\n",
    "from langchain_openai import AzureChatOpenAI\n",
    "\n",
    "parent_dir = os.path.abspath(os.path.join(os.getcwd(), \"..\"))\n",
    "\n",
    "# Add the parent directory to the Python path\n",
    "sys.path.append(parent_dir)\n",
    "\n",
    "from chains.image_extractor import ImageExtractChain\n",
    "from chains.pdf_extractor import PDFExtractChain\n",
    "from models.image_information import ImageInformation\n",
    "from models.pdf_information import PDFInformation"
   ]
  },
  {
   "cell_type": "code",
   "execution_count": null,
   "metadata": {},
   "outputs": [],
   "source": [
    "# Connect to Esri Federal AGOL\n",
    "gis = GIS(\"https://esrifederal.maps.arcgis.com\", client_id=\"VEFjlNUX3GINnELq\")"
   ]
  },
  {
   "cell_type": "code",
   "execution_count": null,
   "metadata": {},
   "outputs": [],
   "source": [
    "# clone over a feature service and a webmap to your own content in a new folder\n",
    "source_group = gis.groups.get(\"78a63c27e59941bbbff470a3f62e2d92\")\n",
    "source_group_items = source_group.content()\n",
    "\n",
    "folder_name = \"SE Led Training GeoGenAI 2024\"\n",
    "gis.content.create_folder(folder_name)\n",
    "gis.content.clone_items(items=source_group_items, copy_data=True, folder=folder_name)\n",
    "\n",
    "print(\n",
    "    \"done cloning. please check your Content for a new folder and then make sure you locate the Item Id of the new feature service that was created. You will use that for the next step.\"\n",
    ")"
   ]
  },
  {
   "cell_type": "code",
   "execution_count": null,
   "metadata": {},
   "outputs": [],
   "source": [
    "# Get the feature layer item id from the previous cloning step.\n",
    "item_id = \"ac062cbb932b478f96075b4ae326447c\"\n",
    "\n",
    "# Get the item\n",
    "item = gis.content.get(item_id)\n",
    "\n",
    "feature_layer = item.layers[0]\n",
    "\n",
    "# Create a directory to save attachments\n",
    "output_dir = \"attachments\"\n",
    "if not os.path.exists(output_dir):\n",
    "    os.makedirs(output_dir)"
   ]
  },
  {
   "cell_type": "code",
   "execution_count": null,
   "metadata": {},
   "outputs": [],
   "source": [
    "# Function to download attachments\n",
    "def download_attachments(feature_layer, output_dir):\n",
    "    # Query all features\n",
    "    features = feature_layer.query(where=\"1=1\", out_fields=\"*\").features\n",
    "\n",
    "    for feature in features:\n",
    "        object_id = feature.attributes[feature_layer.properties.objectIdField]\n",
    "        globalid = feature.attributes[feature_layer.properties.globalIdField]\n",
    "        attachments = feature_layer.attachments.get_list(object_id)\n",
    "\n",
    "        for attachment in attachments:\n",
    "            attachment_id = attachment[\"id\"]\n",
    "            attachment_name = attachment[\"name\"]\n",
    "            final_attachment_path = os.path.join(\n",
    "                output_dir, f\"{globalid}__{attachment_name}\"\n",
    "            )\n",
    "\n",
    "            # Check if the attachment already exists\n",
    "            if not os.path.exists(final_attachment_path):\n",
    "                temp_dir = os.path.join(output_dir, f\"temp_{object_id}\")\n",
    "\n",
    "                # Create a temporary directory to download the attachment\n",
    "                if not os.path.exists(temp_dir):\n",
    "                    os.makedirs(temp_dir)\n",
    "\n",
    "                # Download the attachment to the temporary directory\n",
    "                feature_layer.attachments.download(\n",
    "                    oid=object_id, attachment_id=attachment_id, save_path=temp_dir\n",
    "                )\n",
    "\n",
    "                # Move the attachment from the temporary directory to the output directory with the new name\n",
    "                temp_attachment_path = os.path.join(temp_dir, attachment_name)\n",
    "                shutil.move(temp_attachment_path, final_attachment_path)\n",
    "\n",
    "                # Remove the temporary directory\n",
    "                shutil.rmtree(temp_dir)\n",
    "\n",
    "                print(\n",
    "                    f\"Downloaded {attachment_name} for feature {object_id} as {final_attachment_path}\"\n",
    "                )\n",
    "            else:\n",
    "                print(\n",
    "                    f\"Attachment {attachment_name} for feature {object_id} already exists as {final_attachment_path}\"\n",
    "                )\n",
    "\n",
    "\n",
    "# Download attachments\n",
    "download_attachments(feature_layer, output_dir)"
   ]
  },
  {
   "cell_type": "markdown",
   "metadata": {},
   "source": [
    "### Use a LLM to analyze the attachments\n"
   ]
  },
  {
   "cell_type": "code",
   "execution_count": null,
   "metadata": {},
   "outputs": [],
   "source": [
    "azure_config = toml.load(\"config.toml\")[\"configs\"][0]\n",
    "llm = AzureChatOpenAI(\n",
    "    openai_api_version=azure_config[\"api_version\"],\n",
    "    azure_deployment=azure_config[\"deployment_name\"],\n",
    "    api_key=azure_config[\"api_key\"],\n",
    "    azure_endpoint=azure_config[\"api_endpoint\"],\n",
    "    model=azure_config[\"model_name\"],\n",
    "    model_name=azure_config[\"model_name\"],\n",
    "    temperature=0,\n",
    ")\n",
    "llm.invoke(\"hi\")"
   ]
  },
  {
   "cell_type": "code",
   "execution_count": null,
   "metadata": {},
   "outputs": [],
   "source": [
    "# loop through attachments folder\n",
    "for root, dirs, files in os.walk(output_dir):\n",
    "    for file in files:\n",
    "        global_id = file.split(\"__\")[0]\n",
    "        print(\"=====================================\")\n",
    "        print(f\"Processing attachment for global id: {global_id}\")\n",
    "\n",
    "        file_path = os.path.join(root, file)\n",
    "\n",
    "        attachment_description = None\n",
    "        if file.upper().endswith(\".PNG\") or file.upper().endswith(\".JPG\"):\n",
    "            print(\"analyzing image attachment ...\")\n",
    "            iec_chain = ImageExtractChain(model=llm, image_path=file_path)\n",
    "            result = iec_chain.extract_from_image()\n",
    "            attachment_description = iec_chain.format_for_attachment(result)\n",
    "        else:\n",
    "            print(\"analyzing pdf attachment ...\")\n",
    "            pdf_chain = PDFExtractChain(model=llm, pdf_path=file_path)\n",
    "            result = pdf_chain.extract_from_pdf()\n",
    "            attachment_description = pdf_chain.format_for_attachment(result)\n",
    "\n",
    "        if attachment_description is None:\n",
    "            continue\n",
    "\n",
    "        feature = [\n",
    "            {\n",
    "                \"attributes\": {\n",
    "                    feature_layer.properties.globalIdField: global_id,\n",
    "                    \"AIReview\": attachment_description,\n",
    "                }\n",
    "            }\n",
    "        ]\n",
    "\n",
    "        print(\"Updating AI Review...\")\n",
    "        feature_layer.edit_features(\n",
    "            use_global_ids=True,\n",
    "            updates=feature,\n",
    "        )\n",
    "\n",
    "        print(f\"Updated AI Review for global id: {global_id}\")\n",
    "        print(\"=====================================\")\n",
    "        print(\"\")"
   ]
  }
 ],
 "metadata": {
  "kernelspec": {
   "display_name": ".venv",
   "language": "python",
   "name": "python3"
  },
  "language_info": {
   "codemirror_mode": {
    "name": "ipython",
    "version": 3
   },
   "file_extension": ".py",
   "mimetype": "text/x-python",
   "name": "python",
   "nbconvert_exporter": "python",
   "pygments_lexer": "ipython3",
   "version": "3.11.7"
  }
 },
 "nbformat": 4,
 "nbformat_minor": 2
}
