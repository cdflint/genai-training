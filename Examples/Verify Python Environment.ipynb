{
 "cells": [
  {
   "cell_type": "code",
   "execution_count": 1,
   "metadata": {},
   "outputs": [
    {
     "name": "stdout",
     "output_type": "stream",
     "text": [
      "Successfully imported all libraries. Your python environment is ready to go.\n"
     ]
    }
   ],
   "source": [
    "import toml\n",
    "import sys\n",
    "import os\n",
    "import shutil\n",
    "import json\n",
    "import base64\n",
    "\n",
    "import pandas as pd\n",
    "from typing import Optional, List, Dict\n",
    "from getpass import getpass\n",
    "from pandasai import Agent\n",
    "from arcgis.gis import GIS\n",
    "\n",
    "from langchain_openai import AzureChatOpenAI\n",
    "from langchain_core.messages import HumanMessage\n",
    "from langchain_core.output_parsers import JsonOutputParser\n",
    "from langchain_core.pydantic_v1 import BaseModel, Field\n",
    "\n",
    "import fitz\n",
    "\n",
    "print(\"Successfully imported all libraries. Your python environment is ready to go.\")"
   ]
  }
 ],
 "metadata": {
  "kernelspec": {
   "display_name": "Python 3",
   "language": "python",
   "name": "python3"
  },
  "language_info": {
   "codemirror_mode": {
    "name": "ipython",
    "version": 3
   },
   "file_extension": ".py",
   "mimetype": "text/x-python",
   "name": "python",
   "nbconvert_exporter": "python",
   "pygments_lexer": "ipython3",
   "version": "3.11.8"
  }
 },
 "nbformat": 4,
 "nbformat_minor": 2
}
