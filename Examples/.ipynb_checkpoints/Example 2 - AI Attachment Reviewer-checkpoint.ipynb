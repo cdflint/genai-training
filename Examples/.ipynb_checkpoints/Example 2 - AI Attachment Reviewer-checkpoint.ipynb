{
 "cells": [
  {
   "cell_type": "markdown",
   "metadata": {},
   "source": [
    "### Example 2 - AI Attachment Reviewer\n",
    "\n",
    "This example will walk you through the following steps:\n",
    "\n",
    "1. Downloading attachments from a Feature Service\n",
    "2. Use a LLM to analyze attachments (images & PDFs) and provide a text summary for each\n",
    "3. Write that summary back to the feature for review in an ArcGIS Manager Instant Application\n"
   ]
  },
  {
   "cell_type": "markdown",
   "metadata": {},
   "source": [
    "#### Import the needed python libraries\n"
   ]
  },
  {
   "cell_type": "code",
   "execution_count": 3,
   "metadata": {},
   "outputs": [],
   "source": [
    "import toml\n",
    "import sys\n",
    "import os\n",
    "import shutil\n",
    "import pandas as pd\n",
    "from arcgis.gis import GIS\n",
    "from langchain_openai import AzureChatOpenAI\n",
    "from getpass import getpass\n",
    "\n",
    "parent_dir = os.path.abspath(os.path.join(os.getcwd(), \"..\"))\n",
    "\n",
    "# Add the parent directory to the Python path\n",
    "sys.path.append(parent_dir)\n",
    "\n",
    "from chains.image_extractor import ImageExtractChain\n",
    "from chains.pdf_extractor import PDFExtractChain\n",
    "\n",
    "from models.image_information import ImageInformation\n",
    "from models.pdf_information import PDFInformation"
   ]
  },
  {
   "cell_type": "markdown",
   "metadata": {},
   "source": [
    "#### Connect to ArcGIS Online\n",
    "\n",
    "OPTION 1: Connect to a named-user account\n",
    "\n",
    "- Simply log in with your username and password\n",
    "\n",
    "OPTION 2: Connect to an account using Single Sign On (SSO)\n",
    "\n",
    "- Follow these instructions to create OAuth credentials in your ArcGIS Online account, https://developers.arcgis.com/documentation/security-and-authentication/app-authentication/tutorials/create-oauth-credentials-app-auth/.\n",
    "- After creating, copy the Client Id and use it below in the `client_id` variable.\n"
   ]
  },
  {
   "cell_type": "code",
   "execution_count": 11,
   "metadata": {},
   "outputs": [
    {
     "name": "stdout",
     "output_type": "stream",
     "text": [
      "Please sign in to your GIS and paste the code that is obtained below.\n",
      "If a web browser does not automatically open, please navigate to the URL below yourself instead.\n",
      "Opening web browser to navigate to: https://government.maps.arcgis.com/sharing/rest/oauth2/authorize?response_type=code&client_id=bgxmSgWMiVZmrXxe&redirect_uri=urn%3Aietf%3Awg%3Aoauth%3A2.0%3Aoob&state=LKkN7bytoS2B78J9NRoLqE02fgtB2g&allow_verification=false\n"
     ]
    },
    {
     "name": "stderr",
     "output_type": "stream",
     "text": [
      "c:\\tools\\miniconda3\\envs\\genai-auto-py3\\Lib\\site-packages\\urllib3\\connectionpool.py:1099: InsecureRequestWarning: Unverified HTTPS request is being made to host 'government.maps.arcgis.com'. Adding certificate verification is strongly advised. See: https://urllib3.readthedocs.io/en/latest/advanced-usage.html#tls-warnings\n",
      "  warnings.warn(\n"
     ]
    },
    {
     "data": {
      "text/html": [
       "GIS @ <a href=\"https://government.maps.arcgis.com\">https://government.maps.arcgis.com</a>"
      ],
      "text/plain": [
       "GIS @ https://government.maps.arcgis.com version:2024.2"
      ]
     },
     "execution_count": 11,
     "metadata": {},
     "output_type": "execute_result"
    }
   ],
   "source": [
    "## OPTION 1 -- Comment out if you are using an account with SSO and follow OPTION 2\n",
    "# username = input(prompt=\"Enter your Esri username: \")\n",
    "# password = getpass(prompt=\"Enter your Esri password: \")\n",
    "# gis = GIS(\"https://www.arcgis.com\", username, password)\n",
    "\n",
    "## OPTION 2 -- Uncomment the following lines if you are using an account with SSO\n",
    "## this is url to your Organization\n",
    "org_url = \"https://government.maps.arcgis.com\"\n",
    "\n",
    "# ## client_id is the application id of the app registered through the org\n",
    "client_id = \"bgxmSgWMiVZmrXxe\"\n",
    "gis = GIS(org_url, client_id=client_id)\n",
    "\n",
    "gis"
   ]
  },
  {
   "cell_type": "markdown",
   "metadata": {},
   "source": [
    "#### Clone existing feature service with attachments into your own ArcGIS Online account.\n"
   ]
  },
  {
   "cell_type": "code",
   "execution_count": 12,
   "metadata": {},
   "outputs": [
    {
     "name": "stdout",
     "output_type": "stream",
     "text": [
      "Cloning item: Projects with Attachments for AI Review\n"
     ]
    },
    {
     "ename": "Exception",
     "evalue": "You do not have permissions to access this resource or perform this operation.\n(Error Code: 403)",
     "output_type": "error",
     "traceback": [
      "\u001b[1;31m---------------------------------------------------------------------------\u001b[0m",
      "\u001b[1;31mException\u001b[0m                                 Traceback (most recent call last)",
      "\u001b[1;32m~\\AppData\\Local\\Temp\\ipykernel_39680\\1525455146.py\u001b[0m in \u001b[0;36m<cell line: 0>\u001b[1;34m()\u001b[0m\n\u001b[0;32m      3\u001b[0m \u001b[1;33m\u001b[0m\u001b[0m\n\u001b[0;32m      4\u001b[0m \u001b[0mprint\u001b[0m\u001b[1;33m(\u001b[0m\u001b[1;34mf\"Cloning item: {attachment_fs_item.title}\"\u001b[0m\u001b[1;33m)\u001b[0m\u001b[1;33m\u001b[0m\u001b[1;33m\u001b[0m\u001b[0m\n\u001b[1;32m----> 5\u001b[1;33m cloned_items = gis.content.clone_items(\n\u001b[0m\u001b[0;32m      6\u001b[0m     \u001b[0mitems\u001b[0m\u001b[1;33m=\u001b[0m\u001b[1;33m[\u001b[0m\u001b[0mattachment_fs_item\u001b[0m\u001b[1;33m]\u001b[0m\u001b[1;33m,\u001b[0m \u001b[0mowner\u001b[0m\u001b[1;33m=\u001b[0m\u001b[0mgis\u001b[0m\u001b[1;33m.\u001b[0m\u001b[0musers\u001b[0m\u001b[1;33m.\u001b[0m\u001b[0mme\u001b[0m\u001b[1;33m.\u001b[0m\u001b[0musername\u001b[0m\u001b[1;33m,\u001b[0m \u001b[0mfolder\u001b[0m\u001b[1;33m=\u001b[0m\u001b[1;34m\"/\"\u001b[0m\u001b[1;33m,\u001b[0m \u001b[0mcopy_data\u001b[0m\u001b[1;33m=\u001b[0m\u001b[1;32mTrue\u001b[0m\u001b[1;33m,\u001b[0m \u001b[0msearch_existing_items\u001b[0m\u001b[1;33m=\u001b[0m\u001b[1;32mFalse\u001b[0m\u001b[1;33m\u001b[0m\u001b[1;33m\u001b[0m\u001b[0m\n\u001b[0;32m      7\u001b[0m )\n",
      "\u001b[1;32mc:\\tools\\miniconda3\\envs\\genai-auto-py3\\Lib\\site-packages\\arcgis\\gis\\__init__.py\u001b[0m in \u001b[0;36mclone_items\u001b[1;34m(self, items, folder, item_extent, use_org_basemap, copy_data, copy_global_ids, search_existing_items, item_mapping, group_mapping, owner, preserve_item_id, **kwargs)\u001b[0m\n\u001b[0;32m   8758\u001b[0m             \u001b[0mwab_code_attach\u001b[0m\u001b[1;33m=\u001b[0m\u001b[0mkwargs\u001b[0m\u001b[1;33m.\u001b[0m\u001b[0mpop\u001b[0m\u001b[1;33m(\u001b[0m\u001b[1;34m\"copy_code_attachment\"\u001b[0m\u001b[1;33m,\u001b[0m \u001b[1;32mTrue\u001b[0m\u001b[1;33m)\u001b[0m\u001b[1;33m,\u001b[0m\u001b[1;33m\u001b[0m\u001b[1;33m\u001b[0m\u001b[0m\n\u001b[0;32m   8759\u001b[0m         )\n\u001b[1;32m-> 8760\u001b[1;33m         \u001b[1;32mreturn\u001b[0m \u001b[0mdeep_cloner\u001b[0m\u001b[1;33m.\u001b[0m\u001b[0mclone\u001b[0m\u001b[1;33m(\u001b[0m\u001b[1;33m)\u001b[0m\u001b[1;33m\u001b[0m\u001b[1;33m\u001b[0m\u001b[0m\n\u001b[0m\u001b[0;32m   8761\u001b[0m \u001b[1;33m\u001b[0m\u001b[0m\n\u001b[0;32m   8762\u001b[0m     def bulk_update(\n",
      "\u001b[1;32mc:\\tools\\miniconda3\\envs\\genai-auto-py3\\Lib\\site-packages\\arcgis\\_impl\\common\\_clone.py\u001b[0m in \u001b[0;36mclone\u001b[1;34m(self)\u001b[0m\n\u001b[0;32m   1331\u001b[0m         \u001b[1;32melse\u001b[0m\u001b[1;33m:\u001b[0m\u001b[1;33m\u001b[0m\u001b[1;33m\u001b[0m\u001b[0m\n\u001b[0;32m   1332\u001b[0m             \u001b[1;32mwith\u001b[0m \u001b[0mconcurrent\u001b[0m\u001b[1;33m.\u001b[0m\u001b[0mfutures\u001b[0m\u001b[1;33m.\u001b[0m\u001b[0mThreadPoolExecutor\u001b[0m\u001b[1;33m(\u001b[0m\u001b[0mmax_workers\u001b[0m\u001b[1;33m=\u001b[0m\u001b[1;36m20\u001b[0m\u001b[1;33m)\u001b[0m \u001b[1;32mas\u001b[0m \u001b[0mexecutor\u001b[0m\u001b[1;33m:\u001b[0m\u001b[1;33m\u001b[0m\u001b[1;33m\u001b[0m\u001b[0m\n\u001b[1;32m-> 1333\u001b[1;33m                 \u001b[0mresults\u001b[0m \u001b[1;33m=\u001b[0m \u001b[0mexecutor\u001b[0m\u001b[1;33m.\u001b[0m\u001b[0msubmit\u001b[0m\u001b[1;33m(\u001b[0m\u001b[0mself\u001b[0m\u001b[1;33m.\u001b[0m\u001b[0m_clone\u001b[0m\u001b[1;33m,\u001b[0m \u001b[0mexecutor\u001b[0m\u001b[1;33m)\u001b[0m\u001b[1;33m.\u001b[0m\u001b[0mresult\u001b[0m\u001b[1;33m(\u001b[0m\u001b[1;33m)\u001b[0m\u001b[1;33m\u001b[0m\u001b[1;33m\u001b[0m\u001b[0m\n\u001b[0m\u001b[0;32m   1334\u001b[0m                 \u001b[1;32mreturn\u001b[0m \u001b[0mresults\u001b[0m\u001b[1;33m\u001b[0m\u001b[1;33m\u001b[0m\u001b[0m\n\u001b[0;32m   1335\u001b[0m \u001b[1;33m\u001b[0m\u001b[0m\n",
      "\u001b[1;32mc:\\tools\\miniconda3\\envs\\genai-auto-py3\\Lib\\concurrent\\futures\\_base.py\u001b[0m in \u001b[0;36mresult\u001b[1;34m(self, timeout)\u001b[0m\n\u001b[0;32m    454\u001b[0m                     \u001b[1;32mraise\u001b[0m \u001b[0mCancelledError\u001b[0m\u001b[1;33m(\u001b[0m\u001b[1;33m)\u001b[0m\u001b[1;33m\u001b[0m\u001b[1;33m\u001b[0m\u001b[0m\n\u001b[0;32m    455\u001b[0m                 \u001b[1;32melif\u001b[0m \u001b[0mself\u001b[0m\u001b[1;33m.\u001b[0m\u001b[0m_state\u001b[0m \u001b[1;33m==\u001b[0m \u001b[0mFINISHED\u001b[0m\u001b[1;33m:\u001b[0m\u001b[1;33m\u001b[0m\u001b[1;33m\u001b[0m\u001b[0m\n\u001b[1;32m--> 456\u001b[1;33m                     \u001b[1;32mreturn\u001b[0m \u001b[0mself\u001b[0m\u001b[1;33m.\u001b[0m\u001b[0m__get_result\u001b[0m\u001b[1;33m(\u001b[0m\u001b[1;33m)\u001b[0m\u001b[1;33m\u001b[0m\u001b[1;33m\u001b[0m\u001b[0m\n\u001b[0m\u001b[0;32m    457\u001b[0m                 \u001b[1;32melse\u001b[0m\u001b[1;33m:\u001b[0m\u001b[1;33m\u001b[0m\u001b[1;33m\u001b[0m\u001b[0m\n\u001b[0;32m    458\u001b[0m                     \u001b[1;32mraise\u001b[0m \u001b[0mTimeoutError\u001b[0m\u001b[1;33m(\u001b[0m\u001b[1;33m)\u001b[0m\u001b[1;33m\u001b[0m\u001b[1;33m\u001b[0m\u001b[0m\n",
      "\u001b[1;32mc:\\tools\\miniconda3\\envs\\genai-auto-py3\\Lib\\concurrent\\futures\\_base.py\u001b[0m in \u001b[0;36m__get_result\u001b[1;34m(self)\u001b[0m\n\u001b[0;32m    399\u001b[0m         \u001b[1;32mif\u001b[0m \u001b[0mself\u001b[0m\u001b[1;33m.\u001b[0m\u001b[0m_exception\u001b[0m\u001b[1;33m:\u001b[0m\u001b[1;33m\u001b[0m\u001b[1;33m\u001b[0m\u001b[0m\n\u001b[0;32m    400\u001b[0m             \u001b[1;32mtry\u001b[0m\u001b[1;33m:\u001b[0m\u001b[1;33m\u001b[0m\u001b[1;33m\u001b[0m\u001b[0m\n\u001b[1;32m--> 401\u001b[1;33m                 \u001b[1;32mraise\u001b[0m \u001b[0mself\u001b[0m\u001b[1;33m.\u001b[0m\u001b[0m_exception\u001b[0m\u001b[1;33m\u001b[0m\u001b[1;33m\u001b[0m\u001b[0m\n\u001b[0m\u001b[0;32m    402\u001b[0m             \u001b[1;32mfinally\u001b[0m\u001b[1;33m:\u001b[0m\u001b[1;33m\u001b[0m\u001b[1;33m\u001b[0m\u001b[0m\n\u001b[0;32m    403\u001b[0m                 \u001b[1;31m# Break a reference cycle with the exception in self._exception\u001b[0m\u001b[1;33m\u001b[0m\u001b[1;33m\u001b[0m\u001b[0m\n",
      "\u001b[1;32mc:\\tools\\miniconda3\\envs\\genai-auto-py3\\Lib\\concurrent\\futures\\thread.py\u001b[0m in \u001b[0;36mrun\u001b[1;34m(self)\u001b[0m\n\u001b[0;32m     56\u001b[0m \u001b[1;33m\u001b[0m\u001b[0m\n\u001b[0;32m     57\u001b[0m         \u001b[1;32mtry\u001b[0m\u001b[1;33m:\u001b[0m\u001b[1;33m\u001b[0m\u001b[1;33m\u001b[0m\u001b[0m\n\u001b[1;32m---> 58\u001b[1;33m             \u001b[0mresult\u001b[0m \u001b[1;33m=\u001b[0m \u001b[0mself\u001b[0m\u001b[1;33m.\u001b[0m\u001b[0mfn\u001b[0m\u001b[1;33m(\u001b[0m\u001b[1;33m*\u001b[0m\u001b[0mself\u001b[0m\u001b[1;33m.\u001b[0m\u001b[0margs\u001b[0m\u001b[1;33m,\u001b[0m \u001b[1;33m**\u001b[0m\u001b[0mself\u001b[0m\u001b[1;33m.\u001b[0m\u001b[0mkwargs\u001b[0m\u001b[1;33m)\u001b[0m\u001b[1;33m\u001b[0m\u001b[1;33m\u001b[0m\u001b[0m\n\u001b[0m\u001b[0;32m     59\u001b[0m         \u001b[1;32mexcept\u001b[0m \u001b[0mBaseException\u001b[0m \u001b[1;32mas\u001b[0m \u001b[0mexc\u001b[0m\u001b[1;33m:\u001b[0m\u001b[1;33m\u001b[0m\u001b[1;33m\u001b[0m\u001b[0m\n\u001b[0;32m     60\u001b[0m             \u001b[0mself\u001b[0m\u001b[1;33m.\u001b[0m\u001b[0mfuture\u001b[0m\u001b[1;33m.\u001b[0m\u001b[0mset_exception\u001b[0m\u001b[1;33m(\u001b[0m\u001b[0mexc\u001b[0m\u001b[1;33m)\u001b[0m\u001b[1;33m\u001b[0m\u001b[1;33m\u001b[0m\u001b[0m\n",
      "\u001b[1;32mc:\\tools\\miniconda3\\envs\\genai-auto-py3\\Lib\\site-packages\\arcgis\\_impl\\common\\_clone.py\u001b[0m in \u001b[0;36m_clone\u001b[1;34m(self, excecutor)\u001b[0m\n\u001b[0;32m   1228\u001b[0m         \u001b[1;33m:\u001b[0m\u001b[1;32mreturn\u001b[0m\u001b[1;33m:\u001b[0m\u001b[1;33m\u001b[0m\u001b[1;33m\u001b[0m\u001b[0m\n\u001b[0;32m   1229\u001b[0m         \"\"\"\n\u001b[1;32m-> 1230\u001b[1;33m         \u001b[0mself\u001b[0m\u001b[1;33m.\u001b[0m\u001b[0m_clone_init\u001b[0m\u001b[1;33m(\u001b[0m\u001b[1;33m)\u001b[0m\u001b[1;33m\u001b[0m\u001b[1;33m\u001b[0m\u001b[0m\n\u001b[0m\u001b[0;32m   1231\u001b[0m \u001b[1;33m\u001b[0m\u001b[0m\n\u001b[0;32m   1232\u001b[0m         \u001b[0mleaf_nodes\u001b[0m \u001b[1;33m=\u001b[0m \u001b[0mself\u001b[0m\u001b[1;33m.\u001b[0m\u001b[0m_get_leaf_nodes\u001b[0m\u001b[1;33m(\u001b[0m\u001b[1;33m)\u001b[0m\u001b[1;33m\u001b[0m\u001b[1;33m\u001b[0m\u001b[0m\n",
      "\u001b[1;32mc:\\tools\\miniconda3\\envs\\genai-auto-py3\\Lib\\site-packages\\arcgis\\_impl\\common\\_clone.py\u001b[0m in \u001b[0;36m_clone_init\u001b[1;34m(self)\u001b[0m\n\u001b[0;32m   1114\u001b[0m         \u001b[0mtarget_folder\u001b[0m \u001b[1;33m=\u001b[0m \u001b[1;32mNone\u001b[0m\u001b[1;33m\u001b[0m\u001b[1;33m\u001b[0m\u001b[0m\n\u001b[0;32m   1115\u001b[0m         \u001b[1;32mif\u001b[0m \u001b[0mself\u001b[0m\u001b[1;33m.\u001b[0m\u001b[0mfolder\u001b[0m \u001b[1;32mis\u001b[0m \u001b[1;32mnot\u001b[0m \u001b[1;32mNone\u001b[0m\u001b[1;33m:\u001b[0m\u001b[1;33m\u001b[0m\u001b[1;33m\u001b[0m\u001b[0m\n\u001b[1;32m-> 1116\u001b[1;33m             \u001b[0mfolders\u001b[0m \u001b[1;33m=\u001b[0m \u001b[0muser\u001b[0m\u001b[1;33m.\u001b[0m\u001b[0mfolders\u001b[0m\u001b[1;33m\u001b[0m\u001b[1;33m\u001b[0m\u001b[0m\n\u001b[0m\u001b[0;32m   1117\u001b[0m             target_folder = next(\n\u001b[0;32m   1118\u001b[0m                 \u001b[1;33m(\u001b[0m\u001b[0mf\u001b[0m \u001b[1;32mfor\u001b[0m \u001b[0mf\u001b[0m \u001b[1;32min\u001b[0m \u001b[0mfolders\u001b[0m \u001b[1;32mif\u001b[0m \u001b[0mf\u001b[0m\u001b[1;33m[\u001b[0m\u001b[1;34m\"title\"\u001b[0m\u001b[1;33m]\u001b[0m\u001b[1;33m.\u001b[0m\u001b[0mlower\u001b[0m\u001b[1;33m(\u001b[0m\u001b[1;33m)\u001b[0m \u001b[1;33m==\u001b[0m \u001b[0mself\u001b[0m\u001b[1;33m.\u001b[0m\u001b[0mfolder\u001b[0m\u001b[1;33m.\u001b[0m\u001b[0mlower\u001b[0m\u001b[1;33m(\u001b[0m\u001b[1;33m)\u001b[0m\u001b[1;33m)\u001b[0m\u001b[1;33m,\u001b[0m\u001b[1;33m\u001b[0m\u001b[1;33m\u001b[0m\u001b[0m\n",
      "\u001b[1;32mc:\\tools\\miniconda3\\envs\\genai-auto-py3\\Lib\\site-packages\\arcgis\\gis\\__init__.py\u001b[0m in \u001b[0;36mfolders\u001b[1;34m(self)\u001b[0m\n\u001b[0;32m  13119\u001b[0m \u001b[1;33m\u001b[0m\u001b[0m\n\u001b[0;32m  13120\u001b[0m         \"\"\"\n\u001b[1;32m> 13121\u001b[1;33m         \u001b[1;32mreturn\u001b[0m \u001b[0mself\u001b[0m\u001b[1;33m.\u001b[0m\u001b[0m_portal\u001b[0m\u001b[1;33m.\u001b[0m\u001b[0muser_folders\u001b[0m\u001b[1;33m(\u001b[0m\u001b[0mself\u001b[0m\u001b[1;33m.\u001b[0m\u001b[0m_user_id\u001b[0m\u001b[1;33m)\u001b[0m\u001b[1;33m\u001b[0m\u001b[1;33m\u001b[0m\u001b[0m\n\u001b[0m\u001b[0;32m  13122\u001b[0m \u001b[1;33m\u001b[0m\u001b[0m\n\u001b[0;32m  13123\u001b[0m     \u001b[1;32mdef\u001b[0m \u001b[0mitems\u001b[0m\u001b[1;33m(\u001b[0m\u001b[0mself\u001b[0m\u001b[1;33m,\u001b[0m \u001b[0mfolder\u001b[0m\u001b[1;33m:\u001b[0m \u001b[0mOptional\u001b[0m\u001b[1;33m[\u001b[0m\u001b[0mstr\u001b[0m\u001b[1;33m]\u001b[0m \u001b[1;33m=\u001b[0m \u001b[1;32mNone\u001b[0m\u001b[1;33m,\u001b[0m \u001b[0mmax_items\u001b[0m\u001b[1;33m:\u001b[0m \u001b[0mint\u001b[0m \u001b[1;33m=\u001b[0m \u001b[1;36m100\u001b[0m\u001b[1;33m)\u001b[0m\u001b[1;33m:\u001b[0m\u001b[1;33m\u001b[0m\u001b[1;33m\u001b[0m\u001b[0m\n",
      "\u001b[1;32mc:\\tools\\miniconda3\\envs\\genai-auto-py3\\Lib\\site-packages\\arcgis\\gis\\_impl\\_portalpy.py\u001b[0m in \u001b[0;36muser_folders\u001b[1;34m(self, owner)\u001b[0m\n\u001b[0;32m   1888\u001b[0m \u001b[1;33m\u001b[0m\u001b[0m\n\u001b[0;32m   1889\u001b[0m     \u001b[1;32mdef\u001b[0m \u001b[0muser_folders\u001b[0m\u001b[1;33m(\u001b[0m\u001b[0mself\u001b[0m\u001b[1;33m,\u001b[0m \u001b[0mowner\u001b[0m\u001b[1;33m:\u001b[0m \u001b[0mstr\u001b[0m\u001b[1;33m)\u001b[0m\u001b[1;33m:\u001b[0m\u001b[1;33m\u001b[0m\u001b[1;33m\u001b[0m\u001b[0m\n\u001b[1;32m-> 1890\u001b[1;33m         \u001b[0mresp\u001b[0m \u001b[1;33m=\u001b[0m \u001b[0mself\u001b[0m\u001b[1;33m.\u001b[0m\u001b[0m_contents_page\u001b[0m\u001b[1;33m(\u001b[0m\u001b[0mowner\u001b[0m\u001b[1;33m,\u001b[0m \u001b[1;32mNone\u001b[0m\u001b[1;33m,\u001b[0m \u001b[1;36m1\u001b[0m\u001b[1;33m,\u001b[0m \u001b[1;36m10\u001b[0m\u001b[1;33m)\u001b[0m\u001b[1;33m\u001b[0m\u001b[1;33m\u001b[0m\u001b[0m\n\u001b[0m\u001b[0;32m   1891\u001b[0m         \u001b[0mresults\u001b[0m \u001b[1;33m=\u001b[0m \u001b[0mresp\u001b[0m\u001b[1;33m.\u001b[0m\u001b[0mget\u001b[0m\u001b[1;33m(\u001b[0m\u001b[1;34m\"folders\"\u001b[0m\u001b[1;33m)\u001b[0m\u001b[1;33m\u001b[0m\u001b[1;33m\u001b[0m\u001b[0m\n\u001b[0;32m   1892\u001b[0m         \u001b[1;32mreturn\u001b[0m \u001b[0mresults\u001b[0m\u001b[1;33m\u001b[0m\u001b[1;33m\u001b[0m\u001b[0m\n",
      "\u001b[1;32mc:\\tools\\miniconda3\\envs\\genai-auto-py3\\Lib\\site-packages\\arcgis\\gis\\_impl\\_portalpy.py\u001b[0m in \u001b[0;36m_contents_page\u001b[1;34m(self, owner, folderid, start, num)\u001b[0m\n\u001b[0;32m   2845\u001b[0m         \u001b[1;32mif\u001b[0m \u001b[0mfolderid\u001b[0m\u001b[1;33m:\u001b[0m\u001b[1;33m\u001b[0m\u001b[1;33m\u001b[0m\u001b[0m\n\u001b[0;32m   2846\u001b[0m             \u001b[0mpath\u001b[0m \u001b[1;33m=\u001b[0m \u001b[1;34m\"{}/{}\"\u001b[0m\u001b[1;33m.\u001b[0m\u001b[0mformat\u001b[0m\u001b[1;33m(\u001b[0m\u001b[0mpath\u001b[0m\u001b[1;33m,\u001b[0m \u001b[0mfolderid\u001b[0m\u001b[1;33m)\u001b[0m\u001b[1;33m\u001b[0m\u001b[1;33m\u001b[0m\u001b[0m\n\u001b[1;32m-> 2847\u001b[1;33m         \u001b[1;32mreturn\u001b[0m \u001b[0mself\u001b[0m\u001b[1;33m.\u001b[0m\u001b[0mcon\u001b[0m\u001b[1;33m.\u001b[0m\u001b[0mpost\u001b[0m\u001b[1;33m(\u001b[0m\u001b[0mpath\u001b[0m\u001b[1;33m,\u001b[0m \u001b[0mpostdata\u001b[0m\u001b[1;33m)\u001b[0m\u001b[1;33m\u001b[0m\u001b[1;33m\u001b[0m\u001b[0m\n\u001b[0m\u001b[0;32m   2848\u001b[0m \u001b[1;33m\u001b[0m\u001b[0m\n\u001b[0;32m   2849\u001b[0m     def _search_page(\n",
      "\u001b[1;32mc:\\tools\\miniconda3\\envs\\genai-auto-py3\\Lib\\site-packages\\arcgis\\gis\\_impl\\_con\\_connection.py\u001b[0m in \u001b[0;36mpost\u001b[1;34m(self, path, params, files, **kwargs)\u001b[0m\n\u001b[0;32m   1524\u001b[0m         \u001b[1;32mif\u001b[0m \u001b[0mreturn_raw_response\u001b[0m\u001b[1;33m:\u001b[0m\u001b[1;33m\u001b[0m\u001b[1;33m\u001b[0m\u001b[0m\n\u001b[0;32m   1525\u001b[0m             \u001b[1;32mreturn\u001b[0m \u001b[0mresp\u001b[0m\u001b[1;33m\u001b[0m\u001b[1;33m\u001b[0m\u001b[0m\n\u001b[1;32m-> 1526\u001b[1;33m         return self._handle_response(\n\u001b[0m\u001b[0;32m   1527\u001b[0m             \u001b[0mresp\u001b[0m\u001b[1;33m=\u001b[0m\u001b[0mresp\u001b[0m\u001b[1;33m,\u001b[0m\u001b[1;33m\u001b[0m\u001b[1;33m\u001b[0m\u001b[0m\n\u001b[0;32m   1528\u001b[0m             \u001b[0mout_path\u001b[0m\u001b[1;33m=\u001b[0m\u001b[0mout_path\u001b[0m\u001b[1;33m,\u001b[0m\u001b[1;33m\u001b[0m\u001b[1;33m\u001b[0m\u001b[0m\n",
      "\u001b[1;32mc:\\tools\\miniconda3\\envs\\genai-auto-py3\\Lib\\site-packages\\arcgis\\gis\\_impl\\_con\\_connection.py\u001b[0m in \u001b[0;36m_handle_response\u001b[1;34m(self, resp, file_name, out_path, try_json, force_bytes, ignore_error_key)\u001b[0m\n\u001b[0;32m    999\u001b[0m                     \u001b[1;32mreturn\u001b[0m \u001b[0mdata\u001b[0m\u001b[1;33m\u001b[0m\u001b[1;33m\u001b[0m\u001b[0m\n\u001b[0;32m   1000\u001b[0m                 \u001b[0merrorcode\u001b[0m \u001b[1;33m=\u001b[0m \u001b[0mdata\u001b[0m\u001b[1;33m[\u001b[0m\u001b[1;34m\"error\"\u001b[0m\u001b[1;33m]\u001b[0m\u001b[1;33m[\u001b[0m\u001b[1;34m\"code\"\u001b[0m\u001b[1;33m]\u001b[0m \u001b[1;32mif\u001b[0m \u001b[1;34m\"code\"\u001b[0m \u001b[1;32min\u001b[0m \u001b[0mdata\u001b[0m\u001b[1;33m[\u001b[0m\u001b[1;34m\"error\"\u001b[0m\u001b[1;33m]\u001b[0m \u001b[1;32melse\u001b[0m \u001b[1;36m0\u001b[0m\u001b[1;33m\u001b[0m\u001b[1;33m\u001b[0m\u001b[0m\n\u001b[1;32m-> 1001\u001b[1;33m                 \u001b[0mself\u001b[0m\u001b[1;33m.\u001b[0m\u001b[0m_handle_json_error\u001b[0m\u001b[1;33m(\u001b[0m\u001b[0mdata\u001b[0m\u001b[1;33m[\u001b[0m\u001b[1;34m\"error\"\u001b[0m\u001b[1;33m]\u001b[0m\u001b[1;33m,\u001b[0m \u001b[0merrorcode\u001b[0m\u001b[1;33m)\u001b[0m\u001b[1;33m\u001b[0m\u001b[1;33m\u001b[0m\u001b[0m\n\u001b[0m\u001b[0;32m   1002\u001b[0m             \u001b[1;32mreturn\u001b[0m \u001b[0mdata\u001b[0m\u001b[1;33m\u001b[0m\u001b[1;33m\u001b[0m\u001b[0m\n\u001b[0;32m   1003\u001b[0m         \u001b[1;32melse\u001b[0m\u001b[1;33m:\u001b[0m\u001b[1;33m\u001b[0m\u001b[1;33m\u001b[0m\u001b[0m\n",
      "\u001b[1;32mc:\\tools\\miniconda3\\envs\\genai-auto-py3\\Lib\\site-packages\\arcgis\\gis\\_impl\\_con\\_connection.py\u001b[0m in \u001b[0;36m_handle_json_error\u001b[1;34m(self, error, errorcode)\u001b[0m\n\u001b[0;32m   1022\u001b[0m \u001b[1;33m\u001b[0m\u001b[0m\n\u001b[0;32m   1023\u001b[0m         \u001b[0merrormessage\u001b[0m \u001b[1;33m=\u001b[0m \u001b[0merrormessage\u001b[0m \u001b[1;33m+\u001b[0m \u001b[1;34m\"\\n(Error Code: \"\u001b[0m \u001b[1;33m+\u001b[0m \u001b[0mstr\u001b[0m\u001b[1;33m(\u001b[0m\u001b[0merrorcode\u001b[0m\u001b[1;33m)\u001b[0m \u001b[1;33m+\u001b[0m \u001b[1;34m\")\"\u001b[0m\u001b[1;33m\u001b[0m\u001b[1;33m\u001b[0m\u001b[0m\n\u001b[1;32m-> 1024\u001b[1;33m         \u001b[1;32mraise\u001b[0m \u001b[0mException\u001b[0m\u001b[1;33m(\u001b[0m\u001b[0merrormessage\u001b[0m\u001b[1;33m)\u001b[0m\u001b[1;33m\u001b[0m\u001b[1;33m\u001b[0m\u001b[0m\n\u001b[0m\u001b[0;32m   1025\u001b[0m \u001b[1;33m\u001b[0m\u001b[0m\n\u001b[0;32m   1026\u001b[0m     def post_multipart(\n",
      "\u001b[1;31mException\u001b[0m: You do not have permissions to access this resource or perform this operation.\n(Error Code: 403)"
     ]
    }
   ],
   "source": [
    "# clone over a feature service to your own content\n",
    "attachment_fs_item = gis.content.get(\"ac062cbb932b478f96075b4ae326447c\")\n",
    "\n",
    "print(f\"Cloning item: {attachment_fs_item.title}\")\n",
    "cloned_items = gis.content.clone_items(\n",
    "    items=[attachment_fs_item], owner=gis.users.me.username, folder=\"/\", copy_data=True, search_existing_items=False\n",
    ")\n",
    "\n",
    "cloned_item_id = None\n",
    "if len(cloned_items) > 0:\n",
    "    cloned_item = cloned_items[0]\n",
    "    cloned_item_id = cloned_item.id\n",
    "    # build the url to the cloned feature service\n",
    "    cloned_item_url = f\"{gis.url}/home/item.html?id={cloned_item_id}\"\n",
    "    print(f\"Successfully cloned item. Please review @ {cloned_item_url}.\")\n",
    "\n",
    "else:\n",
    "    print(\"Failed to clone item\")"
   ]
  },
  {
   "cell_type": "markdown",
   "metadata": {},
   "source": [
    "#### Prepare the attachments download folder\n"
   ]
  },
  {
   "cell_type": "code",
   "execution_count": 5,
   "metadata": {},
   "outputs": [],
   "source": [
    "# Get the item\n",
    "item = gis.content.get(cloned_item_id)\n",
    "\n",
    "feature_layer = item.layers[0]\n",
    "\n",
    "# Create a directory to save attachments\n",
    "output_dir = \"attachments\"\n",
    "if not os.path.exists(output_dir):\n",
    "    os.makedirs(output_dir)"
   ]
  },
  {
   "cell_type": "markdown",
   "metadata": {},
   "source": [
    "#### Download Feature Service Attachments\n",
    "\n",
    "This helpful section of code was pulled from Rami's excellent sample here: https://github.com/ralouta/ArcGIS_Code_Repo/blob/main/src/scripts/Feature%20Service%20Management/download_attachments_fs.ipynb.\n"
   ]
  },
  {
   "cell_type": "code",
   "execution_count": null,
   "metadata": {},
   "outputs": [],
   "source": [
    "# Function to download attachments\n",
    "def download_attachments(feature_layer, output_dir):\n",
    "    # Query all features\n",
    "    features = feature_layer.query(where=\"1=1\", out_fields=\"*\").features\n",
    "\n",
    "    for feature in features:\n",
    "        object_id = feature.attributes[feature_layer.properties.objectIdField]\n",
    "        globalid = feature.attributes[feature_layer.properties.globalIdField]\n",
    "        attachments = feature_layer.attachments.get_list(object_id)\n",
    "\n",
    "        for attachment in attachments:\n",
    "            attachment_id = attachment[\"id\"]\n",
    "            attachment_name = attachment[\"name\"]\n",
    "            final_attachment_path = os.path.join(\n",
    "                output_dir, f\"{globalid}__{attachment_name}\"\n",
    "            )\n",
    "\n",
    "            # Check if the attachment already exists\n",
    "            if not os.path.exists(final_attachment_path):\n",
    "                temp_dir = os.path.join(output_dir, f\"temp_{object_id}\")\n",
    "\n",
    "                # Create a temporary directory to download the attachment\n",
    "                if not os.path.exists(temp_dir):\n",
    "                    os.makedirs(temp_dir)\n",
    "\n",
    "                # Download the attachment to the temporary directory\n",
    "                feature_layer.attachments.download(\n",
    "                    oid=object_id, attachment_id=attachment_id, save_path=temp_dir\n",
    "                )\n",
    "\n",
    "                # Move the attachment from the temporary directory to the output directory with the new name\n",
    "                temp_attachment_path = os.path.join(temp_dir, attachment_name)\n",
    "                shutil.move(temp_attachment_path, final_attachment_path)\n",
    "\n",
    "                # Remove the temporary directory\n",
    "                shutil.rmtree(temp_dir)\n",
    "\n",
    "                print(\n",
    "                    f\"Downloaded {attachment_name} for feature {object_id} as {final_attachment_path}\"\n",
    "                )\n",
    "            else:\n",
    "                print(\n",
    "                    f\"Attachment {attachment_name} for feature {object_id} already exists as {final_attachment_path}\"\n",
    "                )\n",
    "\n",
    "\n",
    "# Download attachments\n",
    "download_attachments(feature_layer, output_dir)"
   ]
  },
  {
   "cell_type": "markdown",
   "metadata": {},
   "source": [
    "#### Use a LLM to analyze the attachments\n"
   ]
  },
  {
   "cell_type": "code",
   "execution_count": null,
   "metadata": {},
   "outputs": [],
   "source": [
    "azure_config = toml.load(\"config.toml\")[\"configs\"][0]\n",
    "llm = AzureChatOpenAI(\n",
    "    openai_api_version=azure_config[\"api_version\"],\n",
    "    azure_deployment=azure_config[\"deployment_name\"],\n",
    "    api_key=azure_config[\"api_key\"],\n",
    "    azure_endpoint=azure_config[\"api_endpoint\"],\n",
    "    model=azure_config[\"model_name\"],\n",
    "    model_name=azure_config[\"model_name\"],\n",
    "    temperature=0,\n",
    ")\n",
    "llm.invoke(\"hi\")"
   ]
  },
  {
   "cell_type": "markdown",
   "metadata": {},
   "source": [
    "#### Loop through each attachment and have the LLM analyze it and output the description to your feature service.\n"
   ]
  },
  {
   "cell_type": "code",
   "execution_count": null,
   "metadata": {},
   "outputs": [],
   "source": [
    "# Initialize dataframes to store results for pdf and image attachments\n",
    "results_pdf = pd.DataFrame()\n",
    "results_image = pd.DataFrame()\n",
    "\n",
    "# Loop through attachments folder\n",
    "for root, dirs, files in os.walk(output_dir):\n",
    "    for file in files:\n",
    "        global_id = file.split(\"__\")[0]\n",
    "        print(\"=====================================\")\n",
    "        print(f\"Processing attachment for global id: {global_id}\")\n",
    "\n",
    "        file_path = os.path.join(root, file)\n",
    "\n",
    "        attachment_description = None\n",
    "        if file.upper().endswith(\".PNG\") or file.upper().endswith(\".JPG\"):\n",
    "            print(\"analyzing image attachment ...\")\n",
    "            iec_chain = ImageExtractChain(model=llm, image_path=file_path)\n",
    "            result = iec_chain.extract_from_image()\n",
    "            attributes = vars(result)\n",
    "            attributes[\"globalid\"] = global_id\n",
    "            result_df = pd.DataFrame([attributes])\n",
    "            results_image = pd.concat([results_image, result_df], ignore_index=True)\n",
    "            attachment_description = iec_chain.format_for_attachment(result)\n",
    "        else:\n",
    "            print(\"analyzing pdf attachment ...\")\n",
    "            pdf_chain = PDFExtractChain(model=llm, pdf_path=file_path)\n",
    "            result = pdf_chain.extract_from_pdf()\n",
    "            attributes = vars(result)\n",
    "            attributes[\"globalid\"] = global_id\n",
    "            result_df = pd.DataFrame([attributes])\n",
    "            results_pdf = pd.concat([results_pdf, result_df], ignore_index=True)\n",
    "            attachment_description = pdf_chain.format_for_attachment(result)\n",
    "\n",
    "        if attachment_description is None:\n",
    "            continue\n",
    "\n",
    "        feature = [\n",
    "            {\n",
    "                \"attributes\": {\n",
    "                    feature_layer.properties.globalIdField: global_id,\n",
    "                    \"AIReview\": attachment_description,\n",
    "                }\n",
    "            }\n",
    "        ]\n",
    "\n",
    "        print(\"Updating AI Review...\")\n",
    "        feature_layer.edit_features(\n",
    "            use_global_ids=True,\n",
    "            updates=feature,\n",
    "        )\n",
    "\n",
    "        print(f\"Updated AI Review for global id: {global_id}\")\n",
    "        print(\"=====================================\")\n",
    "        print(\"\")"
   ]
  },
  {
   "cell_type": "markdown",
   "metadata": {},
   "source": [
    "#### View the output of the images in a pandas dataframe\n"
   ]
  },
  {
   "cell_type": "code",
   "execution_count": null,
   "metadata": {},
   "outputs": [],
   "source": [
    "results_image"
   ]
  },
  {
   "cell_type": "markdown",
   "metadata": {},
   "source": [
    "#### View the output of the pdfs in a pandas dataframe\n"
   ]
  },
  {
   "cell_type": "code",
   "execution_count": null,
   "metadata": {},
   "outputs": [],
   "source": [
    "results_pdf"
   ]
  }
 ],
 "metadata": {
  "kernelspec": {
   "display_name": ".venv",
   "language": "python",
   "name": "python3"
  },
  "language_info": {
   "codemirror_mode": {
    "name": "ipython",
    "version": 3
   },
   "file_extension": ".py",
   "mimetype": "text/x-python",
   "name": "python",
   "nbconvert_exporter": "python",
   "pygments_lexer": "ipython3",
   "version": "3.11.8"
  }
 },
 "nbformat": 4,
 "nbformat_minor": 2
}
