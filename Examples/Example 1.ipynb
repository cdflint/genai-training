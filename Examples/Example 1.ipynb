{
 "cells": [
  {
   "cell_type": "code",
   "execution_count": null,
   "metadata": {},
   "outputs": [],
   "source": [
    "\n",
    "\n"
   ]
  },
  {
   "cell_type": "code",
   "execution_count": 1,
   "metadata": {},
   "outputs": [],
   "source": [
    "import toml\n",
    "import json\n",
    "import sys\n",
    "import os\n",
    "\n",
    " # Get the parent directory\n",
    "parent_dir = os.path.abspath(os.path.join(os.getcwd(), '..'))\n",
    "\n",
    "# Add the parent directory to the Python path\n",
    "sys.path.append(parent_dir)\n",
    "# from mimetypes import guess_type\n",
    "from langchain_openai import AzureChatOpenAI\n",
    "# from langchain_core.prompts import ChatPromptTemplate, MessagesPlaceholder\n",
    " \n",
    "from chains.image_extract import ImageExtractChain\n",
    "# from chains.doc_summarize import DocumentSummarize\n",
    " \n",
    "from IPython.display import Markdown\n",
    " "
   ]
  },
  {
   "cell_type": "code",
   "execution_count": 3,
   "metadata": {},
   "outputs": [],
   "source": [
    "azure_config = toml.load(r\"C:\\Users\\rami8629\\OneDrive - Esri\\Demos & Blogs\\ArcGIS Resources\\GeoAi & Deep Learning\\GenAI\\Gen-ai\\Examples\\config_rami.toml\")[\"configs\"][0]\n",
    "llm = AzureChatOpenAI(\n",
    "    openai_api_version=azure_config[\"api_version\"],\n",
    "    azure_deployment=azure_config[\"deployment_name\"],\n",
    "    api_key=azure_config[\"api_key\"],\n",
    "    azure_endpoint=azure_config[\"api_base\"],\n",
    "    model=azure_config[\"model_name\"],\n",
    "    model_name=azure_config[\"model_name\"],\n",
    "    temperature=0,\n",
    ")\n",
    "response = llm.invoke(\"hi\")"
   ]
  },
  {
   "cell_type": "code",
   "execution_count": 4,
   "metadata": {},
   "outputs": [
    {
     "data": {
      "text/plain": [
       "'Hello! How can I assist you today?'"
      ]
     },
     "execution_count": 4,
     "metadata": {},
     "output_type": "execute_result"
    }
   ],
   "source": [
    "response.content"
   ]
  },
  {
   "cell_type": "code",
   "execution_count": 9,
   "metadata": {},
   "outputs": [
    {
     "data": {
      "text/markdown": [
       "\n",
       "```json\n",
       "{\n",
       "    \"image_description\": \"A map of France showing absolute temperature records broken in 2023, with various colored dots indicating different temperature ranges.\",\n",
       "    \"people_count\": 0,\n",
       "    \"average_temp\": 36.5,\n",
       "    \"average_temp_description\": \"The average temperature is calculated based on the color-coded temperature records shown on the map, ranging from 29\\u00b0C to 44\\u00b0C.\",\n",
       "    \"country\": \"France\",\n",
       "    \"main_objects\": [\n",
       "        \"map\",\n",
       "        \"temperature scale\",\n",
       "        \"colored dots\"\n",
       "    ]\n",
       "}         \n",
       "```\n"
      ],
      "text/plain": [
       "<IPython.core.display.Markdown object>"
      ]
     },
     "execution_count": 9,
     "metadata": {},
     "output_type": "execute_result"
    }
   ],
   "source": [
    "image_url = \"images\\France_53cb768b-3137-4f1f-8224-a401de8dc71b_carte_pastilles_10x.png\"\n",
    "iec = ImageExtractChain(model=llm, image_path=image_url)\n",
    "\n",
    "result = iec.extract_from_image()\n",
    "\n",
    "Markdown(\n",
    "    f\"\"\"\n",
    "```json\n",
    "{json.dumps(result, indent=4)}         \n",
    "```\n",
    "\"\"\"\n",
    ")"
   ]
  }
 ],
 "metadata": {
  "kernelspec": {
   "display_name": "Python 3",
   "language": "python",
   "name": "python3"
  },
  "language_info": {
   "codemirror_mode": {
    "name": "ipython",
    "version": 3
   },
   "file_extension": ".py",
   "mimetype": "text/x-python",
   "name": "python",
   "nbconvert_exporter": "python",
   "pygments_lexer": "ipython3",
   "version": "3.11.8"
  }
 },
 "nbformat": 4,
 "nbformat_minor": 2
}
