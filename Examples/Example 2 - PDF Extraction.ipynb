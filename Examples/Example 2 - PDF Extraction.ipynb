{
 "cells": [
  {
   "cell_type": "code",
   "execution_count": null,
   "metadata": {},
   "outputs": [],
   "source": [
    "import toml\n",
    "import sys\n",
    "import os\n",
    "import pandas as pd\n",
    "\n",
    "from langchain_openai import AzureChatOpenAI\n",
    "\n",
    " # Get the parent directory\n",
    "parent_dir = os.path.abspath(os.path.join(os.getcwd(), '..'))\n",
    "\n",
    "# Add the parent directory to the Python path\n",
    "sys.path.append(parent_dir)\n",
    "\n",
    "# Import the PDFExtractChain class from the chains module\n",
    "from chains.pdf_extractor import PDFExtractChain\n",
    "from IPython.display import Markdown"
   ]
  },
  {
   "cell_type": "code",
   "execution_count": null,
   "metadata": {},
   "outputs": [],
   "source": [
    "azure_config = toml.load(r\"C:\\Users\\rami8629\\OneDrive - Esri\\Demos & Blogs\\ArcGIS Resources\\GeoAi & Deep Learning\\GenAI\\Gen-ai\\Examples\\config_rami.toml\")[\"configs\"][0]\n",
    "llm = AzureChatOpenAI(\n",
    "    openai_api_version=azure_config[\"api_version\"],\n",
    "    azure_deployment=azure_config[\"deployment_name\"],\n",
    "    api_key=azure_config[\"api_key\"],\n",
    "    azure_endpoint=azure_config[\"api_base\"],\n",
    "    model=azure_config[\"model_name\"],\n",
    "    model_name=azure_config[\"model_name\"],\n",
    "    temperature=0,\n",
    ")\n",
    "response = llm.invoke(\"hi\")"
   ]
  },
  {
   "cell_type": "code",
   "execution_count": null,
   "metadata": {},
   "outputs": [],
   "source": [
    "\n",
    "# Directory containing PDF files\n",
    "pdf_directory = \"pdfs\"\n",
    "\n",
    "# List all PDF files in the directory\n",
    "pdf_paths = [os.path.join(pdf_directory, f) for f in os.listdir(pdf_directory) if f.endswith('.pdf')]\n",
    "\n",
    "# Create an instance of PDFExtractChain for each PDF and extract information\n",
    "results = {}\n",
    "for pdf_path in pdf_paths:\n",
    "    # Extract country name from the PDF file name\n",
    "    country_name, global_id = os.path.basename(pdf_path).split('_')[:2]\n",
    "    countryname_globalid = f\"{country_name}_{global_id}\"\n",
    "    \n",
    "    # Create an instance of PDFExtractChain\n",
    "    pdf_chain = PDFExtractChain(llm, pdf_path)\n",
    "    \n",
    "    # Extract information from the PDF\n",
    "    result = pdf_chain.extract_from_pdf()\n",
    "    \n",
    "    # Store the result in the dictionary\n",
    "    results[countryname_globalid] = result\n",
    "   "
   ]
  },
  {
   "cell_type": "code",
   "execution_count": null,
   "metadata": {},
   "outputs": [],
   "source": [
    "\n",
    "# Convert the results dictionary to a DataFrame\n",
    "df = pd.DataFrame.from_dict(results, orient='index')\n",
    "\n",
    "# Display the DataFrame\n",
    "df"
   ]
  },
  {
   "cell_type": "code",
   "execution_count": null,
   "metadata": {},
   "outputs": [],
   "source": [
    "summaries = df[\"summary\"]"
   ]
  },
  {
   "cell_type": "code",
   "execution_count": null,
   "metadata": {},
   "outputs": [],
   "source": [
    "for summary in summaries:\n",
    "    display(Markdown(summary))"
   ]
  },
  {
   "cell_type": "code",
   "execution_count": null,
   "metadata": {},
   "outputs": [],
   "source": [
    "# Assuming df is already defined and contains the 'graphs' column\n",
    "graphs_data = df['graphs'].apply(pd.Series)\n",
    "\n",
    "# Create two DataFrames from the 'graphs' column\n",
    "df_graphs_titles = graphs_data.applymap(lambda x: x['title'] if isinstance(x, dict) else None)\n",
    "df_graphs_page_numbers = graphs_data.applymap(lambda x: x['page_number'] if isinstance(x, dict) else None)\n"
   ]
  },
  {
   "cell_type": "code",
   "execution_count": null,
   "metadata": {},
   "outputs": [],
   "source": [
    "\n",
    "# Display the DataFrames\n",
    "print(\"Graph Titles DataFrame:\")\n",
    "df_graphs_titles\n"
   ]
  },
  {
   "cell_type": "code",
   "execution_count": null,
   "metadata": {},
   "outputs": [],
   "source": [
    "\n",
    "print(\"\\nGraph Page Numbers DataFrame:\")\n",
    "df_graphs_page_numbers"
   ]
  }
 ],
 "metadata": {
  "kernelspec": {
   "display_name": "Python 3",
   "language": "python",
   "name": "python3"
  },
  "language_info": {
   "codemirror_mode": {
    "name": "ipython",
    "version": 3
   },
   "file_extension": ".py",
   "mimetype": "text/x-python",
   "name": "python",
   "nbconvert_exporter": "python",
   "pygments_lexer": "ipython3",
   "version": "3.11.8"
  }
 },
 "nbformat": 4,
 "nbformat_minor": 2
}
